{
 "cells": [
  {
   "cell_type": "markdown",
   "metadata": {},
   "source": [
    "<center> <h1 style=\"background-color:#5a4343; color:white; font-weight: bold\" >Análise dos fatores depressivos - base de dados NHANES 2005-2006</h1></center>\n",
    "\n",
    "<!-- <center> <h2 style=\"background-color:#AB7070; color:white\" >Inicializando o PySpark</h2></center>\n",
    "<center> <h3 style=\"background-color:#ECF7AE; color:#3F403D\" >Hiper Parâmetros</h3></center> \n",
    "    -->\n"
   ]
  },
  {
   "cell_type": "markdown",
   "metadata": {},
   "source": [
    "<center> <h2 style=\"background-color:#AB7070; color:white; font-weight: bold\" >Dataset usado para análise</h2></center>\n",
    "\n",
    "Os dados disponíveis são resultados da NHNES (National Health and Nutrition\n",
    "Examination Survey), realizada anualmente nos EUA para avaliar a saúde e\n",
    "nutrição de adultos e crianças, os dados dessa análise são do período de 2005-2006;"
   ]
  },
  {
   "cell_type": "markdown",
   "metadata": {},
   "source": [
    "Perguntas a serem respondidas na análise\n",
    "\n",
    "> 1. Qual o perfil de indivíduos (adultos maiores de 18 anos) com sintomas depressivos nos EUA no período de 2005-2006?\n",
    "> 2. Hábitos saudáveis de alimentação e atividade física estão associados a menores índices de depressão nesta população?"
   ]
  },
  {
   "cell_type": "markdown",
   "metadata": {},
   "source": [
    "\n",
    "<center> <h3 style=\"background-color:#ECF7AE; color:#3F403D; font-weight: bold\" >Dicionários das bases</h3></center> "
   ]
  },
  {
   "cell_type": "markdown",
   "metadata": {},
   "source": [
    "**DEMO_PHQ.csv:** banco de dados contendo 5334 observações de adultos\n",
    "pesquisados no NHANES 2005-2006, contendo as seguintes variáveis:"
   ]
  },
  {
   "cell_type": "markdown",
   "metadata": {},
   "source": [
    "| Nome | Descrição | Valores |\n",
    "|------| -------- | --------- |\n",
    "|**SEQN**||Identificador único do respondente|\n",
    "|**DPQ010**|  Nas últimas 2 semanas, com que frequência você <br> ficou incomodado  por algum dos problemas a seguir:<br>  >>> Pouco interesse ou pouco prazer em fazer as coisas | 0 = Nenhuma vez; <br> 1 = Menos de uma semana; <br> 2 = Uma semana ou mais; <br> 3 = Quase todos os dias; <br> 7 = Se recusou a responder; <br> 9 = Não sabe |\n",
    "|**DPQ020**|  Nas últimas 2 semanas, com que frequência você <br> ficou incomodado por algum dosproblemas a seguir: <br>  >>> Se sentiu para baixo, deprimido(a) ou sem perspectiva | 0 = Nenhuma vez; <br> 1 = Menos de uma semana; <br> 2 = Uma semana ou mais; <br> 3 = Quase todos os dias; <br> 7 = Se recusou a responder; <br> 9 = Não sabe |\n",
    "|**DPQ030**|  Nas últimas 2 semanas, com que frequência você <br>  ficou incomodado por algum dosproblemas a seguir: <br>  >>> Dificuldade para pegar no sono  <br> ou permanecer dormindo ou dormiu mais do que o costume | 0 = Nenhuma vez; <br> 1 = Menos de uma semana; <br> 2 = Uma semana ou mais; <br> 3 = Quase todos os dias; <br> 7 = Se recusou a responder; <br> 9 = Não sabe |\n",
    "|**DPQ040**|  Nas últimas 2 semanas, com que frequência você  <br> ficou incomodado por algum dosproblemas a seguir: <br>  >>> Se sentiu cansado(a) ou com pouca energia | 0 = Nenhuma vez; <br> 1 = Menos de uma semana; <br> 2 = Uma semana ou mais; <br> 3 = Quase todos os dias; <br> 7 = Se recusou a responder; <br> 9 = Não sabe |\n",
    "|**DPQ050**|  Nas últimas 2 semanas, com que frequência você  <br> ficou incomodado por algum dosproblemas a seguir: <br>  >>> Falta de apetite ou comeu demais | 0 = Nenhuma vez; <br> 1 = Menos de uma semana; <br> 2 = Uma semana ou mais; <br> 3 = Quase todos os dias; <br> 7 = Se recusou a responder; <br> 9 = Não sabe |\n",
    "|**DPQ060**|  Nas últimas 2 semanas, com que frequência você <br>  ficou incomodado por algum dosproblemas a seguir: <br>  >>> Se sentiu mal consigo mesmo(a)  <br>  ou achou que é um fracasso ou que  <br> decepcionou sua família ou a você mesmo(a) | 0 = Nenhuma vez; <br> 1 = Menos de uma semana; <br> 2 = Uma semana ou mais; <br> 3 = Quase todos os dias; <br> 7 = Se recusou a responder; <br> 9 = Não sabe |\n",
    "|**DPQ070**|  Nas últimas 2 semanas, com que frequência você ficou <br> incomodado por algum dosproblemas a seguir: <br>  >>> Dificuldade para se concentrar nas <br>  coisas (como ler o jornal ou ver televisão) | 0 = Nenhuma vez; <br> 1 = Menos de uma semana; <br> 2 = Uma semana ou mais; <br> 3 = Quase todos os dias; <br> 7 = Se recusou a responder; <br> 9 = Não sabe |\n",
    "|**DPQ080**|  Nas últimas 2 semanas, com que frequência você ficou  <br> incomodado por algum dosproblemas a seguir: <br>  >>> Teve lentidão para se movimentar  <br>  ou falar (a ponto de outras pessoas perceberem), <br>  ou ao contrário, esteve tão agitado(a)  <br> que você ficava andando de um lado para  <br> o outro mais do que costume | 0 = Nenhuma vez; <br> 1 = Menos de uma semana; <br> 2 = Uma semana ou mais; <br> 3 = Quase todos os dias; <br> 7 = Se recusou a responder; <br> 9 = Não sabe |\n",
    "|**DPQ090**|  Nas últimas 2 semanas, com que frequência você ficou  <br> incomodado por algum dosproblemas a seguir: <br>  >>> Pensou em se ferir de alguma maneira  <br> ou que seria melhor estar morto(a) | 0 = Nenhuma vez; <br> 1 = Menos de uma semana; <br> 2 = Uma semana ou mais; <br> 3 = Quase todos os dias; <br> 7 = Se recusou a responder; <br> 9 = Não sabe |\n",
    "|**RIAGENDR**| Gênero | 1 = Masculino <br> 2 = Feminino |\n",
    "|**RIDAGEYR**| Idade em anos | |\n",
    "|**RIDRETH1**| Raça/Etnia | 1 = Branco não-hispânico; <br>  2 = Negro não-hispânico; <br>  3 = Mexicano-americano; <br>  4 = Outro; <br>  5 = Outro - Hispânico |\n",
    "|**DMDEDUC**| Escolaridade | 1 = Menor que 9o ano; <br> 2 = 9-12o ano; <br> 3 = Ensino médio; <br> 4 = Ensino superior incompleto; <br> 5 = Superior completo ou maior; <br> 7 = Se recusou a responder; <br> 9 = Não sabe |\n",
    "|**INDFMINC**| Renda anual familiar (US$) | 1 = 0-4999; <br> 2 = 5000-9999; <br> 3 = 10000-14999; <br> 4 = 15000-19999; <br> 5 = 20000-24999; <br> 6 = 25000-34999; <br> 7 = 35000-44999; <br> 8 = 45000-54999; <br> 9 = 55000-64999; <br> 10 = 65000-74999; <br> 11 = Maior ou igual a 75000; <br> 12 = Maior que 20000; <br> 13 = Menor que 20000; <br> 77 = Se recusou a responder; <br> 99 = Não sabe |"
   ]
  },
  {
   "cell_type": "markdown",
   "metadata": {},
   "source": [
    "---\n",
    "\n",
    "**PAG_HEI.csv:** banco de dados contendo 9424 observações de crianças e adultos\n",
    "pesquisados no NHANES 2005-2006:\n",
    "\n",
    "| Nome | Descrição | Valores |\n",
    "|------| -------- | --------- |\n",
    "|**SEQN**| Identificador único do respondente ||\n",
    "|**PAG_MINW**|Tempo total semanal de atividade aeróbica <br> moderada-vigorosa em minutos segundo o <br> Physical Activity Guideline (PAG)| |\n",
    "|**ADHERENCE**| Grupo de aderência ao <br> Physical Activity Guideline (PAG). | 1 = Baixo (< 150 min/semana); <br> 2 = Adequado (150-300 min/semana); <br>  3 = Acima (> 300 min/semana) |\n",
    "|**HEI2015C1_TOTALVEG**| Healthy Eating Index - Componente<br> 1 - Total de Vegetais | 0-5 |\n",
    "|**HEI2015C2_GREEN_AND_BEAN**| Healthy Eating Index - Componente<br> 2 - Verduras verde-escuras e leguminosas | 0-5 |\n",
    "|**HEI2015C3_TOTALFRUIT**| Healthy Eating Index - Componente<br> 3 - Frutas totais | 0-5 |\n",
    "|**HEI2015C4_WHOLEFRUIT**| Healthy Eating Index - Componente<br> 4 - Frutas in natura | 0-5 |\n",
    "|**HEI2015C5_WHOLEGRAIN**| Healthy Eating Index - Componente<br> 5 - Grãos integrais | 0-10 |\n",
    "|**HEI2015C6_TOTALDAIRY**| Healthy Eating Index - Componente<br> 6 - Laticínios | 0-10 |\n",
    "|**HEI2015C7_TOTPROT**| Healthy Eating Index - Componente<br> 7 - Proteínas | 0-5 |\n",
    "|**HEI2015C8_SEAPLANT_PROT**| Healthy Eating Index - Componente<br> 8 - Plantas marinhas e proteínas vegetais | 0-5 |\n",
    "|**HEI2015C9_FATTYACID**| Healthy Eating Index - Componente<br> 9 - Ácido-graxo | 0-10 |\n",
    "|**HEI2015C10_SODIUM**| Healthy Eating Index - Componente<br> 10 - Sódio | 0-10 |\n",
    "|**HEI2015C11_REFINEDGRAIN**| Healthy Eating Index - Componente<br> 11 - Grãos refinados | 0-10 |\n",
    "|**HEI2015C12_SFAT**| Healthy Eating Index - Componente<br> 12 - Gordura saturada | 0-10 |\n",
    "|**HEI2015C13_ADDSUG**| Healthy Eating Index - Componente<br> 13 - Açúcares adicionados | 0-10 |\n",
    "|**HEI2015_TOTAL_SCORE**| Healthy Eating Index - Escore total | 0-100 |"
   ]
  },
  {
   "cell_type": "markdown",
   "metadata": {},
   "source": []
  }
 ],
 "metadata": {
  "kernelspec": {
   "display_name": ".venv",
   "language": "python",
   "name": "python3"
  },
  "language_info": {
   "codemirror_mode": {
    "name": "ipython",
    "version": 3
   },
   "file_extension": ".py",
   "mimetype": "text/x-python",
   "name": "python",
   "nbconvert_exporter": "python",
   "pygments_lexer": "ipython3",
   "version": "3.10.12"
  }
 },
 "nbformat": 4,
 "nbformat_minor": 2
}
