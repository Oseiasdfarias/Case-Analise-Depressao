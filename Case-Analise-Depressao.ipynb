{
 "cells": [
  {
   "cell_type": "markdown",
   "metadata": {},
   "source": [
    "<center> <h1 style=\"background-color:#5a4343; color:white\" >Análise dos fatores depressivos - base de dados NHANES 2005-2006</h1></center>\n",
    "\n",
    "<!-- <center> <h2 style=\"background-color:#AB7070; color:white\" >Inicializando o PySpark</h2></center>\n",
    "<center> <h3 style=\"background-color:#ECF7AE; color:#3F403D\" >Hiper Parâmetros</h3></center> \n",
    "    -->\n"
   ]
  },
  {
   "cell_type": "markdown",
   "metadata": {},
   "source": [
    "<center> <h2 style=\"background-color:#AB7070; color:white\" >Dataset usado para análise</h2></center>\n",
    "\n",
    "Os dados disponíveis são resultados da NHNES (National Health and Nutrition\n",
    "Examination Survey), realizada anualmente nos EUA para avaliar a saúde e\n",
    "nutrição de adultos e crianças, os dados dessa análise são do período de 2005-2006;"
   ]
  },
  {
   "cell_type": "markdown",
   "metadata": {},
   "source": [
    "Perguntas a serem respondidas na análise\n",
    "\n",
    "> 1. Qual o perfil de indivíduos (adultos maiores de 18 anos) com sintomas depressivos nos EUA no período de 2005-2006?\n",
    "> 2. Hábitos saudáveis de alimentação e atividade física estão associados a menores índices de depressão nesta população?"
   ]
  },
  {
   "cell_type": "markdown",
   "metadata": {},
   "source": [
    "\n",
    "<center> <h3 style=\"background-color:#ECF7AE; color:#3F403D\" >Dicionários das bases</h3></center> "
   ]
  },
  {
   "cell_type": "markdown",
   "metadata": {},
   "source": [
    "**DEMO_PHQ.csv:** banco de dados contendo 5334 observações de adultos\n",
    "pesquisados no NHANES 2005-2006, contendo as seguintes variáveis:"
   ]
  },
  {
   "cell_type": "markdown",
   "metadata": {},
   "source": [
    "| Nome | Descrição | Valores |\n",
    "|------| -------- | --------- |\n",
    "|**SEQN**||Identificador único do respondente|\n",
    "|**DPQ010**|  Nas últimas 2 semanas, com que frequência você ficou incomodado <br> por algum dos problemas a seguir:<br>  >>> Pouco interesse ou pouco prazer em fazer as coisas | 0 = Nenhuma vez; <br> 1 = Menos de uma semana; <br> 2 = Uma semana ou mais; <br> 3 = Quase todos os dias; <br> 7 = Se recusou a responder; <br> 9 = Não sabe |\n",
    "|**DPQ020**|  Nas últimas 2 semanas, com que frequência você ficou incomodado por algum dosproblemas a seguir: <br>  >>> Se sentiu para baixo, deprimido(a) ou sem perspectiva | 0 = Nenhuma vez; <br> 1 = Menos de uma semana; <br> 2 = Uma semana ou mais; <br> 3 = Quase todos os dias; <br> 7 = Se recusou a responder; <br> 9 = Não sabe |"
   ]
  },
  {
   "cell_type": "markdown",
   "metadata": {},
   "source": [
    "**PAG_HEI.csv:** banco de dados contendo 9424 observações de crianças e adultos\n",
    "pesquisados no NHANES 2005-2006:"
   ]
  },
  {
   "cell_type": "markdown",
   "metadata": {},
   "source": []
  }
 ],
 "metadata": {
  "kernelspec": {
   "display_name": ".venv",
   "language": "python",
   "name": "python3"
  },
  "language_info": {
   "codemirror_mode": {
    "name": "ipython",
    "version": 3
   },
   "file_extension": ".py",
   "mimetype": "text/x-python",
   "name": "python",
   "nbconvert_exporter": "python",
   "pygments_lexer": "ipython3",
   "version": "3.10.12"
  }
 },
 "nbformat": 4,
 "nbformat_minor": 2
}
