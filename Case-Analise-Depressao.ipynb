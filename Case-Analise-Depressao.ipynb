{
 "cells": [
  {
   "cell_type": "markdown",
   "metadata": {},
   "source": [
    "<center> <h1 style=\"background-color:#5a4343; color:white; font-weight: bold\" >Análise dos fatores depressivos - base de dados NHANES 2005-2006</h1></center>\n",
    "\n",
    "<!-- <center> <h2 style=\"background-color:#AB7070; color:white\" >Inicializando o PySpark</h2></center>\n",
    "<center> <h3 style=\"background-color:#ECF7AE; color:#3F403D\" >Hiper Parâmetros</h3></center> \n",
    "    -->\n"
   ]
  },
  {
   "cell_type": "markdown",
   "metadata": {},
   "source": [
    "<center> <h2 style=\"background-color:#AB7070; color:white; font-weight: bold\" >Dataset usado para análise</h2></center>\n",
    "\n",
    "Os dados disponíveis são resultados da NHNES (National Health and Nutrition\n",
    "Examination Survey), realizada anualmente nos EUA para avaliar a saúde e\n",
    "nutrição de adultos e crianças, os dados dessa análise são do período de 2005-2006;"
   ]
  },
  {
   "cell_type": "markdown",
   "metadata": {},
   "source": [
    "Perguntas a serem respondidas na análise\n",
    "\n",
    "> 1. Qual o perfil de indivíduos (adultos maiores de 18 anos) com sintomas depressivos nos EUA no período de 2005-2006?\n",
    "> 2. Hábitos saudáveis de alimentação e atividade física estão associados a menores índices de depressão nesta população?"
   ]
  },
  {
   "cell_type": "markdown",
   "metadata": {},
   "source": [
    "\n",
    "<center> <h2 style=\"background-color:#ECF7AE; color:#3F403D; font-weight: bold\" >Dicionários das bases</h2></center> "
   ]
  },
  {
   "cell_type": "markdown",
   "metadata": {},
   "source": [
    "**DEMO_PHQ.csv:** banco de dados contendo 5334 observações de adultos\n",
    "pesquisados no NHANES 2005-2006, contendo as seguintes variáveis:"
   ]
  },
  {
   "cell_type": "markdown",
   "metadata": {},
   "source": [
    "| Nome | Descrição | Valores |\n",
    "|------| -------- | --------- |\n",
    "|**SEQN**||Identificador único do respondente|\n",
    "|**DPQ010**|  Nas últimas 2 semanas, com que frequência você <br> ficou incomodado  por algum dos problemas a seguir:<br>  >>> Pouco interesse ou pouco prazer em fazer as coisas | 0 = Nenhuma vez; <br> 1 = Menos de uma semana; <br> 2 = Uma semana ou mais; <br> 3 = Quase todos os dias; <br> 7 = Se recusou a responder; <br> 9 = Não sabe |\n",
    "|**DPQ020**|  Nas últimas 2 semanas, com que frequência você <br> ficou incomodado por algum dosproblemas a seguir: <br>  >>> Se sentiu para baixo, deprimido(a) ou sem perspectiva | 0 = Nenhuma vez; <br> 1 = Menos de uma semana; <br> 2 = Uma semana ou mais; <br> 3 = Quase todos os dias; <br> 7 = Se recusou a responder; <br> 9 = Não sabe |\n",
    "|**DPQ030**|  Nas últimas 2 semanas, com que frequência você <br>  ficou incomodado por algum dosproblemas a seguir: <br>  >>> Dificuldade para pegar no sono  <br> ou permanecer dormindo ou dormiu mais do que o costume | 0 = Nenhuma vez; <br> 1 = Menos de uma semana; <br> 2 = Uma semana ou mais; <br> 3 = Quase todos os dias; <br> 7 = Se recusou a responder; <br> 9 = Não sabe |\n",
    "|**DPQ040**|  Nas últimas 2 semanas, com que frequência você  <br> ficou incomodado por algum dosproblemas a seguir: <br>  >>> Se sentiu cansado(a) ou com pouca energia | 0 = Nenhuma vez; <br> 1 = Menos de uma semana; <br> 2 = Uma semana ou mais; <br> 3 = Quase todos os dias; <br> 7 = Se recusou a responder; <br> 9 = Não sabe |\n",
    "|**DPQ050**|  Nas últimas 2 semanas, com que frequência você  <br> ficou incomodado por algum dosproblemas a seguir: <br>  >>> Falta de apetite ou comeu demais | 0 = Nenhuma vez; <br> 1 = Menos de uma semana; <br> 2 = Uma semana ou mais; <br> 3 = Quase todos os dias; <br> 7 = Se recusou a responder; <br> 9 = Não sabe |\n",
    "|**DPQ060**|  Nas últimas 2 semanas, com que frequência você <br>  ficou incomodado por algum dosproblemas a seguir: <br>  >>> Se sentiu mal consigo mesmo(a)  <br>  ou achou que é um fracasso ou que  <br> decepcionou sua família ou a você mesmo(a) | 0 = Nenhuma vez; <br> 1 = Menos de uma semana; <br> 2 = Uma semana ou mais; <br> 3 = Quase todos os dias; <br> 7 = Se recusou a responder; <br> 9 = Não sabe |\n",
    "|**DPQ070**|  Nas últimas 2 semanas, com que frequência você ficou <br> incomodado por algum dosproblemas a seguir: <br>  >>> Dificuldade para se concentrar nas <br>  coisas (como ler o jornal ou ver televisão) | 0 = Nenhuma vez; <br> 1 = Menos de uma semana; <br> 2 = Uma semana ou mais; <br> 3 = Quase todos os dias; <br> 7 = Se recusou a responder; <br> 9 = Não sabe |\n",
    "|**DPQ080**|  Nas últimas 2 semanas, com que frequência você ficou  <br> incomodado por algum dosproblemas a seguir: <br>  >>> Teve lentidão para se movimentar  <br>  ou falar (a ponto de outras pessoas perceberem), <br>  ou ao contrário, esteve tão agitado(a)  <br> que você ficava andando de um lado para  <br> o outro mais do que costume | 0 = Nenhuma vez; <br> 1 = Menos de uma semana; <br> 2 = Uma semana ou mais; <br> 3 = Quase todos os dias; <br> 7 = Se recusou a responder; <br> 9 = Não sabe |\n",
    "|**DPQ090**|  Nas últimas 2 semanas, com que frequência você ficou  <br> incomodado por algum dosproblemas a seguir: <br>  >>> Pensou em se ferir de alguma maneira  <br> ou que seria melhor estar morto(a) | 0 = Nenhuma vez; <br> 1 = Menos de uma semana; <br> 2 = Uma semana ou mais; <br> 3 = Quase todos os dias; <br> 7 = Se recusou a responder; <br> 9 = Não sabe |\n",
    "|**RIAGENDR**| Gênero | 1 = Masculino <br> 2 = Feminino |\n",
    "|**RIDAGEYR**| Idade em anos | |\n",
    "|**RIDRETH1**| Raça/Etnia | 1 = Branco não-hispânico; <br>  2 = Negro não-hispânico; <br>  3 = Mexicano-americano; <br>  4 = Outro; <br>  5 = Outro - Hispânico |\n",
    "|**DMDEDUC**| Escolaridade | 1 = Menor que 9o ano; <br> 2 = 9-12o ano; <br> 3 = Ensino médio; <br> 4 = Ensino superior incompleto; <br> 5 = Superior completo ou maior; <br> 7 = Se recusou a responder; <br> 9 = Não sabe |\n",
    "|**INDFMINC**| Renda anual familiar (US$) | 1 = 0-4999; <br> 2 = 5000-9999; <br> 3 = 10000-14999; <br> 4 = 15000-19999; <br> 5 = 20000-24999; <br> 6 = 25000-34999; <br> 7 = 35000-44999; <br> 8 = 45000-54999; <br> 9 = 55000-64999; <br> 10 = 65000-74999; <br> 11 = Maior ou igual a 75000; <br> 12 = Maior que 20000; <br> 13 = Menor que 20000; <br> 77 = Se recusou a responder; <br> 99 = Não sabe |"
   ]
  },
  {
   "cell_type": "markdown",
   "metadata": {},
   "source": [
    "---\n",
    "\n",
    "**PAG_HEI.csv:** banco de dados contendo 9424 observações de crianças e adultos\n",
    "pesquisados no NHANES 2005-2006:\n",
    "\n",
    "| Nome | Descrição | Valores |\n",
    "|------| -------- | :---------: |\n",
    "|**SEQN**| Identificador único do respondente ||\n",
    "|**PAG_MINW**|Tempo total semanal de atividade aeróbica <br> moderada-vigorosa em minutos segundo o <br> Physical Activity Guideline (PAG)| |\n",
    "|**ADHERENCE**| Grupo de aderência ao <br> Physical Activity Guideline (PAG). | 1 = Baixo (< 150 min/semana); <br> 2 = Adequado (150-300 min/semana); <br>  3 = Acima (> 300 min/semana) |\n",
    "|**HEI2015C1_TOTALVEG**| Healthy Eating Index - Componente<br> 1 - Total de Vegetais | 0-5 |\n",
    "|**HEI2015C2_GREEN_AND_BEAN**| Healthy Eating Index - Componente<br> 2 - Verduras verde-escuras e leguminosas | 0-5 |\n",
    "|**HEI2015C3_TOTALFRUIT**| Healthy Eating Index - Componente<br> 3 - Frutas totais | 0-5 |\n",
    "|**HEI2015C4_WHOLEFRUIT**| Healthy Eating Index - Componente<br> 4 - Frutas in natura | 0-5 |\n",
    "|**HEI2015C5_WHOLEGRAIN**| Healthy Eating Index - Componente<br> 5 - Grãos integrais | 0-10 |\n",
    "|**HEI2015C6_TOTALDAIRY**| Healthy Eating Index - Componente<br> 6 - Laticínios | 0-10 |\n",
    "|**HEI2015C7_TOTPROT**| Healthy Eating Index - Componente<br> 7 - Proteínas | 0-5 |\n",
    "|**HEI2015C8_SEAPLANT_PROT**| Healthy Eating Index - Componente<br> 8 - Plantas marinhas e proteínas vegetais | 0-5 |\n",
    "|**HEI2015C9_FATTYACID**| Healthy Eating Index - Componente<br> 9 - Ácido-graxo | 0-10 |\n",
    "|**HEI2015C10_SODIUM**| Healthy Eating Index - Componente<br> 10 - Sódio | 0-10 |\n",
    "|**HEI2015C11_REFINEDGRAIN**| Healthy Eating Index - Componente<br> 11 - Grãos refinados | 0-10 |\n",
    "|**HEI2015C12_SFAT**| Healthy Eating Index - Componente<br> 12 - Gordura saturada | 0-10 |\n",
    "|**HEI2015C13_ADDSUG**| Healthy Eating Index - Componente<br> 13 - Açúcares adicionados | 0-10 |\n",
    "|**HEI2015_TOTAL_SCORE**| Healthy Eating Index - Escore total | 0-100 |"
   ]
  },
  {
   "cell_type": "markdown",
   "metadata": {},
   "source": [
    "<center> <h2 style=\"background-color:#AB7070; color:white; font-weight: bold\" >Bibliotecas usadas na Análise</h2></center>"
   ]
  },
  {
   "cell_type": "code",
   "execution_count": 1,
   "metadata": {},
   "outputs": [],
   "source": [
    "import numpy as np\n",
    "import pandas as pd\n",
    "\n",
    "from matplotlib import pyplot as plt\n",
    "import seaborn as sns"
   ]
  },
  {
   "cell_type": "markdown",
   "metadata": {},
   "source": [
    "<center> <h3 style=\"background-color:#ECF7AE; color:#3F403D; font-weight: bold\" >Carregando a base de dados DEMO_PHQ</h3></center> "
   ]
  },
  {
   "cell_type": "code",
   "execution_count": 3,
   "metadata": {},
   "outputs": [],
   "source": [
    "df_demo_phd = pd.read_csv(\"./dados_projeto/DEMO_PHQ.csv\")"
   ]
  },
  {
   "cell_type": "markdown",
   "metadata": {},
   "source": [
    "Visualizando as 10 primeiras linhas da base de dados"
   ]
  },
  {
   "cell_type": "code",
   "execution_count": 5,
   "metadata": {},
   "outputs": [
    {
     "data": {
      "text/html": [
       "<div>\n",
       "<style scoped>\n",
       "    .dataframe tbody tr th:only-of-type {\n",
       "        vertical-align: middle;\n",
       "    }\n",
       "\n",
       "    .dataframe tbody tr th {\n",
       "        vertical-align: top;\n",
       "    }\n",
       "\n",
       "    .dataframe thead th {\n",
       "        text-align: right;\n",
       "    }\n",
       "</style>\n",
       "<table border=\"1\" class=\"dataframe\">\n",
       "  <thead>\n",
       "    <tr style=\"text-align: right;\">\n",
       "      <th></th>\n",
       "      <th>SEQN</th>\n",
       "      <th>DPQ010</th>\n",
       "      <th>DPQ020</th>\n",
       "      <th>DPQ030</th>\n",
       "      <th>DPQ040</th>\n",
       "      <th>DPQ050</th>\n",
       "      <th>DPQ060</th>\n",
       "      <th>DPQ070</th>\n",
       "      <th>DPQ080</th>\n",
       "      <th>DPQ090</th>\n",
       "      <th>RIAGENDR</th>\n",
       "      <th>RIDAGEYR</th>\n",
       "      <th>RIDRETH1</th>\n",
       "      <th>DMDEDUC</th>\n",
       "      <th>INDFMINC</th>\n",
       "    </tr>\n",
       "  </thead>\n",
       "  <tbody>\n",
       "    <tr>\n",
       "      <th>0</th>\n",
       "      <td>31130</td>\n",
       "      <td>NaN</td>\n",
       "      <td>NaN</td>\n",
       "      <td>NaN</td>\n",
       "      <td>NaN</td>\n",
       "      <td>NaN</td>\n",
       "      <td>NaN</td>\n",
       "      <td>NaN</td>\n",
       "      <td>NaN</td>\n",
       "      <td>NaN</td>\n",
       "      <td>2</td>\n",
       "      <td>85</td>\n",
       "      <td>3</td>\n",
       "      <td>4</td>\n",
       "      <td>4.0</td>\n",
       "    </tr>\n",
       "    <tr>\n",
       "      <th>1</th>\n",
       "      <td>31131</td>\n",
       "      <td>0.0</td>\n",
       "      <td>0.0</td>\n",
       "      <td>0.0</td>\n",
       "      <td>0.0</td>\n",
       "      <td>0.0</td>\n",
       "      <td>0.0</td>\n",
       "      <td>0.0</td>\n",
       "      <td>0.0</td>\n",
       "      <td>0.0</td>\n",
       "      <td>2</td>\n",
       "      <td>44</td>\n",
       "      <td>4</td>\n",
       "      <td>4</td>\n",
       "      <td>11.0</td>\n",
       "    </tr>\n",
       "    <tr>\n",
       "      <th>2</th>\n",
       "      <td>31132</td>\n",
       "      <td>0.0</td>\n",
       "      <td>0.0</td>\n",
       "      <td>0.0</td>\n",
       "      <td>0.0</td>\n",
       "      <td>0.0</td>\n",
       "      <td>0.0</td>\n",
       "      <td>0.0</td>\n",
       "      <td>0.0</td>\n",
       "      <td>0.0</td>\n",
       "      <td>1</td>\n",
       "      <td>70</td>\n",
       "      <td>3</td>\n",
       "      <td>5</td>\n",
       "      <td>11.0</td>\n",
       "    </tr>\n",
       "    <tr>\n",
       "      <th>3</th>\n",
       "      <td>31134</td>\n",
       "      <td>0.0</td>\n",
       "      <td>0.0</td>\n",
       "      <td>0.0</td>\n",
       "      <td>0.0</td>\n",
       "      <td>0.0</td>\n",
       "      <td>0.0</td>\n",
       "      <td>0.0</td>\n",
       "      <td>0.0</td>\n",
       "      <td>0.0</td>\n",
       "      <td>1</td>\n",
       "      <td>73</td>\n",
       "      <td>3</td>\n",
       "      <td>3</td>\n",
       "      <td>12.0</td>\n",
       "    </tr>\n",
       "    <tr>\n",
       "      <th>4</th>\n",
       "      <td>31139</td>\n",
       "      <td>0.0</td>\n",
       "      <td>0.0</td>\n",
       "      <td>0.0</td>\n",
       "      <td>0.0</td>\n",
       "      <td>3.0</td>\n",
       "      <td>1.0</td>\n",
       "      <td>0.0</td>\n",
       "      <td>0.0</td>\n",
       "      <td>0.0</td>\n",
       "      <td>2</td>\n",
       "      <td>18</td>\n",
       "      <td>2</td>\n",
       "      <td>3</td>\n",
       "      <td>11.0</td>\n",
       "    </tr>\n",
       "    <tr>\n",
       "      <th>5</th>\n",
       "      <td>31143</td>\n",
       "      <td>0.0</td>\n",
       "      <td>1.0</td>\n",
       "      <td>1.0</td>\n",
       "      <td>1.0</td>\n",
       "      <td>1.0</td>\n",
       "      <td>1.0</td>\n",
       "      <td>1.0</td>\n",
       "      <td>0.0</td>\n",
       "      <td>0.0</td>\n",
       "      <td>1</td>\n",
       "      <td>19</td>\n",
       "      <td>3</td>\n",
       "      <td>4</td>\n",
       "      <td>11.0</td>\n",
       "    </tr>\n",
       "    <tr>\n",
       "      <th>6</th>\n",
       "      <td>31144</td>\n",
       "      <td>0.0</td>\n",
       "      <td>0.0</td>\n",
       "      <td>0.0</td>\n",
       "      <td>0.0</td>\n",
       "      <td>0.0</td>\n",
       "      <td>0.0</td>\n",
       "      <td>0.0</td>\n",
       "      <td>0.0</td>\n",
       "      <td>0.0</td>\n",
       "      <td>1</td>\n",
       "      <td>21</td>\n",
       "      <td>2</td>\n",
       "      <td>3</td>\n",
       "      <td>3.0</td>\n",
       "    </tr>\n",
       "    <tr>\n",
       "      <th>7</th>\n",
       "      <td>31149</td>\n",
       "      <td>0.0</td>\n",
       "      <td>0.0</td>\n",
       "      <td>0.0</td>\n",
       "      <td>0.0</td>\n",
       "      <td>0.0</td>\n",
       "      <td>0.0</td>\n",
       "      <td>0.0</td>\n",
       "      <td>0.0</td>\n",
       "      <td>0.0</td>\n",
       "      <td>2</td>\n",
       "      <td>85</td>\n",
       "      <td>3</td>\n",
       "      <td>2</td>\n",
       "      <td>1.0</td>\n",
       "    </tr>\n",
       "    <tr>\n",
       "      <th>8</th>\n",
       "      <td>31150</td>\n",
       "      <td>1.0</td>\n",
       "      <td>0.0</td>\n",
       "      <td>0.0</td>\n",
       "      <td>0.0</td>\n",
       "      <td>0.0</td>\n",
       "      <td>0.0</td>\n",
       "      <td>0.0</td>\n",
       "      <td>0.0</td>\n",
       "      <td>0.0</td>\n",
       "      <td>1</td>\n",
       "      <td>79</td>\n",
       "      <td>3</td>\n",
       "      <td>3</td>\n",
       "      <td>3.0</td>\n",
       "    </tr>\n",
       "    <tr>\n",
       "      <th>9</th>\n",
       "      <td>31151</td>\n",
       "      <td>0.0</td>\n",
       "      <td>0.0</td>\n",
       "      <td>1.0</td>\n",
       "      <td>1.0</td>\n",
       "      <td>0.0</td>\n",
       "      <td>0.0</td>\n",
       "      <td>1.0</td>\n",
       "      <td>0.0</td>\n",
       "      <td>0.0</td>\n",
       "      <td>2</td>\n",
       "      <td>59</td>\n",
       "      <td>4</td>\n",
       "      <td>3</td>\n",
       "      <td>7.0</td>\n",
       "    </tr>\n",
       "  </tbody>\n",
       "</table>\n",
       "</div>"
      ],
      "text/plain": [
       "    SEQN  DPQ010  DPQ020  DPQ030  DPQ040  DPQ050  DPQ060  DPQ070  DPQ080  \\\n",
       "0  31130     NaN     NaN     NaN     NaN     NaN     NaN     NaN     NaN   \n",
       "1  31131     0.0     0.0     0.0     0.0     0.0     0.0     0.0     0.0   \n",
       "2  31132     0.0     0.0     0.0     0.0     0.0     0.0     0.0     0.0   \n",
       "3  31134     0.0     0.0     0.0     0.0     0.0     0.0     0.0     0.0   \n",
       "4  31139     0.0     0.0     0.0     0.0     3.0     1.0     0.0     0.0   \n",
       "5  31143     0.0     1.0     1.0     1.0     1.0     1.0     1.0     0.0   \n",
       "6  31144     0.0     0.0     0.0     0.0     0.0     0.0     0.0     0.0   \n",
       "7  31149     0.0     0.0     0.0     0.0     0.0     0.0     0.0     0.0   \n",
       "8  31150     1.0     0.0     0.0     0.0     0.0     0.0     0.0     0.0   \n",
       "9  31151     0.0     0.0     1.0     1.0     0.0     0.0     1.0     0.0   \n",
       "\n",
       "   DPQ090  RIAGENDR  RIDAGEYR  RIDRETH1  DMDEDUC  INDFMINC  \n",
       "0     NaN         2        85         3        4       4.0  \n",
       "1     0.0         2        44         4        4      11.0  \n",
       "2     0.0         1        70         3        5      11.0  \n",
       "3     0.0         1        73         3        3      12.0  \n",
       "4     0.0         2        18         2        3      11.0  \n",
       "5     0.0         1        19         3        4      11.0  \n",
       "6     0.0         1        21         2        3       3.0  \n",
       "7     0.0         2        85         3        2       1.0  \n",
       "8     0.0         1        79         3        3       3.0  \n",
       "9     0.0         2        59         4        3       7.0  "
      ]
     },
     "execution_count": 5,
     "metadata": {},
     "output_type": "execute_result"
    }
   ],
   "source": [
    "df_demo_phd.head(10)"
   ]
  },
  {
   "cell_type": "markdown",
   "metadata": {},
   "source": [
    "Obtendo o shape do DataFrame"
   ]
  },
  {
   "cell_type": "code",
   "execution_count": 13,
   "metadata": {},
   "outputs": [
    {
     "name": "stdout",
     "output_type": "stream",
     "text": [
      "\n",
      "Amostras dp dataset: 5334\n",
      "Variáveis do dataset: 15\n"
     ]
    }
   ],
   "source": [
    "print(f\"\\nAmostras dp dataset: {df_demo_phd.shape[0]}\")\n",
    "print(f\"Variáveis do dataset: {df_demo_phd.shape[1]}\")\n"
   ]
  },
  {
   "cell_type": "markdown",
   "metadata": {},
   "source": [
    "Informações do DataFrame "
   ]
  },
  {
   "cell_type": "code",
   "execution_count": 14,
   "metadata": {},
   "outputs": [
    {
     "name": "stdout",
     "output_type": "stream",
     "text": [
      "<class 'pandas.core.frame.DataFrame'>\n",
      "RangeIndex: 5334 entries, 0 to 5333\n",
      "Data columns (total 15 columns):\n",
      " #   Column    Non-Null Count  Dtype  \n",
      "---  ------    --------------  -----  \n",
      " 0   SEQN      5334 non-null   int64  \n",
      " 1   DPQ010    4836 non-null   float64\n",
      " 2   DPQ020    4836 non-null   float64\n",
      " 3   DPQ030    4836 non-null   float64\n",
      " 4   DPQ040    4836 non-null   float64\n",
      " 5   DPQ050    4836 non-null   float64\n",
      " 6   DPQ060    4836 non-null   float64\n",
      " 7   DPQ070    4836 non-null   float64\n",
      " 8   DPQ080    4836 non-null   float64\n",
      " 9   DPQ090    4836 non-null   float64\n",
      " 10  RIAGENDR  5334 non-null   int64  \n",
      " 11  RIDAGEYR  5334 non-null   int64  \n",
      " 12  RIDRETH1  5334 non-null   int64  \n",
      " 13  DMDEDUC   5334 non-null   int64  \n",
      " 14  INDFMINC  5287 non-null   float64\n",
      "dtypes: float64(10), int64(5)\n",
      "memory usage: 625.2 KB\n"
     ]
    }
   ],
   "source": [
    "df_demo_phd.info()"
   ]
  }
 ],
 "metadata": {
  "kernelspec": {
   "display_name": ".venv",
   "language": "python",
   "name": "python3"
  },
  "language_info": {
   "codemirror_mode": {
    "name": "ipython",
    "version": 3
   },
   "file_extension": ".py",
   "mimetype": "text/x-python",
   "name": "python",
   "nbconvert_exporter": "python",
   "pygments_lexer": "ipython3",
   "version": "3.10.12"
  }
 },
 "nbformat": 4,
 "nbformat_minor": 2
}
