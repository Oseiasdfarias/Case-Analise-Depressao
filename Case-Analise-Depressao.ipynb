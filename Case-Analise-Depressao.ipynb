{
 "cells": [
  {
   "cell_type": "markdown",
   "metadata": {},
   "source": [
    "<center> <h1 style=\"background-color:#5a4343; color:white; font-weight: bold\" >Análise dos fatores depressivos - base de dados NHANES 2005-2006</h1></center>\n",
    "\n",
    "<!-- <center> <h2 style=\"background-color:#AB7070; color:white\" >Inicializando o PySpark</h2></center>\n",
    "<center> <h3 style=\"background-color:#ECF7AE; color:#3F403D\" >Hiper Parâmetros</h3></center> \n",
    "    -->\n"
   ]
  },
  {
   "cell_type": "markdown",
   "metadata": {},
   "source": [
    "<center> <h2 style=\"background-color:#AB7070; color:white; font-weight: bold\" >Dataset usado para análise</h2></center>\n",
    "\n",
    "Os dados disponíveis são resultados da NHNES (National Health and Nutrition\n",
    "Examination Survey), realizada anualmente nos EUA para avaliar a saúde e\n",
    "nutrição de adultos e crianças, os dados dessa análise são do período de 2005-2006;"
   ]
  },
  {
   "cell_type": "markdown",
   "metadata": {},
   "source": [
    "Perguntas a serem respondidas na análise\n",
    "\n",
    "> 1. Qual o perfil de indivíduos (adultos maiores de 18 anos) com sintomas depressivos nos EUA no período de 2005-2006?\n",
    "> 2. Hábitos saudáveis de alimentação e atividade física estão associados a menores índices de depressão nesta população?"
   ]
  },
  {
   "cell_type": "markdown",
   "metadata": {},
   "source": [
    "\n",
    "<center> <h2 style=\"background-color:#ECF7AE; color:#3F403D; font-weight: bold\" >Dicionários das bases</h2></center> "
   ]
  },
  {
   "cell_type": "markdown",
   "metadata": {},
   "source": [
    "**DEMO_PHQ.csv:** banco de dados contendo 5334 observações de adultos\n",
    "pesquisados no NHANES 2005-2006, contendo as seguintes variáveis:"
   ]
  },
  {
   "cell_type": "markdown",
   "metadata": {},
   "source": [
    "| Nome | Descrição | Valores |\n",
    "|------| -------- | --------- |\n",
    "|**SEQN**||Identificador único do respondente|\n",
    "|**DPQ010**|  Nas últimas 2 semanas, com que frequência você <br> ficou incomodado  por algum dos problemas a seguir:<br>  >>> Pouco interesse ou pouco prazer em fazer as coisas | 0 = Nenhuma vez; <br> 1 = Menos de uma semana; <br> 2 = Uma semana ou mais; <br> 3 = Quase todos os dias; <br> 7 = Se recusou a responder; <br> 9 = Não sabe |\n",
    "|**DPQ020**|  Nas últimas 2 semanas, com que frequência você <br> ficou incomodado por algum dosproblemas a seguir: <br>  >>> Se sentiu para baixo, deprimido(a) ou sem perspectiva | 0 = Nenhuma vez; <br> 1 = Menos de uma semana; <br> 2 = Uma semana ou mais; <br> 3 = Quase todos os dias; <br> 7 = Se recusou a responder; <br> 9 = Não sabe |\n",
    "|**DPQ030**|  Nas últimas 2 semanas, com que frequência você <br>  ficou incomodado por algum dosproblemas a seguir: <br>  >>> Dificuldade para pegar no sono  <br> ou permanecer dormindo ou dormiu mais do que o costume | 0 = Nenhuma vez; <br> 1 = Menos de uma semana; <br> 2 = Uma semana ou mais; <br> 3 = Quase todos os dias; <br> 7 = Se recusou a responder; <br> 9 = Não sabe |\n",
    "|**DPQ040**|  Nas últimas 2 semanas, com que frequência você  <br> ficou incomodado por algum dosproblemas a seguir: <br>  >>> Se sentiu cansado(a) ou com pouca energia | 0 = Nenhuma vez; <br> 1 = Menos de uma semana; <br> 2 = Uma semana ou mais; <br> 3 = Quase todos os dias; <br> 7 = Se recusou a responder; <br> 9 = Não sabe |\n",
    "|**DPQ050**|  Nas últimas 2 semanas, com que frequência você  <br> ficou incomodado por algum dosproblemas a seguir: <br>  >>> Falta de apetite ou comeu demais | 0 = Nenhuma vez; <br> 1 = Menos de uma semana; <br> 2 = Uma semana ou mais; <br> 3 = Quase todos os dias; <br> 7 = Se recusou a responder; <br> 9 = Não sabe |\n",
    "|**DPQ060**|  Nas últimas 2 semanas, com que frequência você <br>  ficou incomodado por algum dosproblemas a seguir: <br>  >>> Se sentiu mal consigo mesmo(a)  <br>  ou achou que é um fracasso ou que  <br> decepcionou sua família ou a você mesmo(a) | 0 = Nenhuma vez; <br> 1 = Menos de uma semana; <br> 2 = Uma semana ou mais; <br> 3 = Quase todos os dias; <br> 7 = Se recusou a responder; <br> 9 = Não sabe |\n",
    "|**DPQ070**|  Nas últimas 2 semanas, com que frequência você ficou <br> incomodado por algum dosproblemas a seguir: <br>  >>> Dificuldade para se concentrar nas <br>  coisas (como ler o jornal ou ver televisão) | 0 = Nenhuma vez; <br> 1 = Menos de uma semana; <br> 2 = Uma semana ou mais; <br> 3 = Quase todos os dias; <br> 7 = Se recusou a responder; <br> 9 = Não sabe |\n",
    "|**DPQ080**|  Nas últimas 2 semanas, com que frequência você ficou  <br> incomodado por algum dosproblemas a seguir: <br>  >>> Teve lentidão para se movimentar  <br>  ou falar (a ponto de outras pessoas perceberem), <br>  ou ao contrário, esteve tão agitado(a)  <br> que você ficava andando de um lado para  <br> o outro mais do que costume | 0 = Nenhuma vez; <br> 1 = Menos de uma semana; <br> 2 = Uma semana ou mais; <br> 3 = Quase todos os dias; <br> 7 = Se recusou a responder; <br> 9 = Não sabe |\n",
    "|**DPQ090**|  Nas últimas 2 semanas, com que frequência você ficou  <br> incomodado por algum dosproblemas a seguir: <br>  >>> Pensou em se ferir de alguma maneira  <br> ou que seria melhor estar morto(a) | 0 = Nenhuma vez; <br> 1 = Menos de uma semana; <br> 2 = Uma semana ou mais; <br> 3 = Quase todos os dias; <br> 7 = Se recusou a responder; <br> 9 = Não sabe |\n",
    "|**RIAGENDR**| Gênero | 1 = Masculino <br> 2 = Feminino |\n",
    "|**RIDAGEYR**| Idade em anos | |\n",
    "|**RIDRETH1**| Raça/Etnia | 1 = Branco não-hispânico; <br>  2 = Negro não-hispânico; <br>  3 = Mexicano-americano; <br>  4 = Outro; <br>  5 = Outro - Hispânico |\n",
    "|**DMDEDUC**| Escolaridade | 1 = Menor que 9o ano; <br> 2 = 9-12o ano; <br> 3 = Ensino médio; <br> 4 = Ensino superior incompleto; <br> 5 = Superior completo ou maior; <br> 7 = Se recusou a responder; <br> 9 = Não sabe |\n",
    "|**INDFMINC**| Renda anual familiar (US$) | 1 = 0-4999; <br> 2 = 5000-9999; <br> 3 = 10000-14999; <br> 4 = 15000-19999; <br> 5 = 20000-24999; <br> 6 = 25000-34999; <br> 7 = 35000-44999; <br> 8 = 45000-54999; <br> 9 = 55000-64999; <br> 10 = 65000-74999; <br> 11 = Maior ou igual a 75000; <br> 12 = Maior que 20000; <br> 13 = Menor que 20000; <br> 77 = Se recusou a responder; <br> 99 = Não sabe |"
   ]
  },
  {
   "cell_type": "markdown",
   "metadata": {},
   "source": [
    "---\n",
    "\n",
    "**PAG_HEI.csv:** banco de dados contendo 9424 observações de crianças e adultos\n",
    "pesquisados no NHANES 2005-2006:\n",
    "\n",
    "| Nome | Descrição | Valores |\n",
    "|------| -------- | :---------: |\n",
    "|**SEQN**| Identificador único do respondente ||\n",
    "|**PAG_MINW**|Tempo total semanal de atividade aeróbica <br> moderada-vigorosa em minutos segundo o <br> Physical Activity Guideline (PAG)| |\n",
    "|**ADHERENCE**| Grupo de aderência ao <br> Physical Activity Guideline (PAG). | 1 = Baixo (< 150 min/semana); <br> 2 = Adequado (150-300 min/semana); <br>  3 = Acima (> 300 min/semana) |\n",
    "|**HEI2015C1_TOTALVEG**| Healthy Eating Index - Componente<br> 1 - Total de Vegetais | 0-5 |\n",
    "|**HEI2015C2_GREEN_AND_BEAN**| Healthy Eating Index - Componente<br> 2 - Verduras verde-escuras e leguminosas | 0-5 |\n",
    "|**HEI2015C3_TOTALFRUIT**| Healthy Eating Index - Componente<br> 3 - Frutas totais | 0-5 |\n",
    "|**HEI2015C4_WHOLEFRUIT**| Healthy Eating Index - Componente<br> 4 - Frutas in natura | 0-5 |\n",
    "|**HEI2015C5_WHOLEGRAIN**| Healthy Eating Index - Componente<br> 5 - Grãos integrais | 0-10 |\n",
    "|**HEI2015C6_TOTALDAIRY**| Healthy Eating Index - Componente<br> 6 - Laticínios | 0-10 |\n",
    "|**HEI2015C7_TOTPROT**| Healthy Eating Index - Componente<br> 7 - Proteínas | 0-5 |\n",
    "|**HEI2015C8_SEAPLANT_PROT**| Healthy Eating Index - Componente<br> 8 - Plantas marinhas e proteínas vegetais | 0-5 |\n",
    "|**HEI2015C9_FATTYACID**| Healthy Eating Index - Componente<br> 9 - Ácido-graxo | 0-10 |\n",
    "|**HEI2015C10_SODIUM**| Healthy Eating Index - Componente<br> 10 - Sódio | 0-10 |\n",
    "|**HEI2015C11_REFINEDGRAIN**| Healthy Eating Index - Componente<br> 11 - Grãos refinados | 0-10 |\n",
    "|**HEI2015C12_SFAT**| Healthy Eating Index - Componente<br> 12 - Gordura saturada | 0-10 |\n",
    "|**HEI2015C13_ADDSUG**| Healthy Eating Index - Componente<br> 13 - Açúcares adicionados | 0-10 |\n",
    "|**HEI2015_TOTAL_SCORE**| Healthy Eating Index - Escore total | 0-100 |"
   ]
  },
  {
   "cell_type": "markdown",
   "metadata": {},
   "source": [
    "<center> <h2 style=\"background-color:#AB7070; color:white; font-weight: bold\" >Bibliotecas usadas na Análise</h2></center>"
   ]
  },
  {
   "cell_type": "code",
   "execution_count": 112,
   "metadata": {},
   "outputs": [],
   "source": [
    "import numpy as np\n",
    "import pandas as pd\n",
    "\n",
    "from matplotlib import pyplot as plt\n",
    "import seaborn as sns"
   ]
  },
  {
   "cell_type": "markdown",
   "metadata": {},
   "source": [
    "<center> <h2 style=\"background-color:#AB7070; color:white; font-weight: bold\" >Tratamento das bases</h2></center>\n",
    "\n",
    "<center> <h3 style=\"background-color:#ECF7AE; color:#3F403D; font-weight: bold\" >Carregando e realizando a limpeza da base de dados DEMO_PHQ</h3></center>"
   ]
  },
  {
   "cell_type": "code",
   "execution_count": 113,
   "metadata": {},
   "outputs": [],
   "source": [
    "df_demo_phd = pd.read_csv(\"./dados_projeto/DEMO_PHQ.csv\")"
   ]
  },
  {
   "cell_type": "markdown",
   "metadata": {},
   "source": [
    "Visualizando as 10 primeiras linhas da base de dados"
   ]
  },
  {
   "cell_type": "code",
   "execution_count": 114,
   "metadata": {},
   "outputs": [
    {
     "data": {
      "text/html": [
       "<div>\n",
       "<style scoped>\n",
       "    .dataframe tbody tr th:only-of-type {\n",
       "        vertical-align: middle;\n",
       "    }\n",
       "\n",
       "    .dataframe tbody tr th {\n",
       "        vertical-align: top;\n",
       "    }\n",
       "\n",
       "    .dataframe thead th {\n",
       "        text-align: right;\n",
       "    }\n",
       "</style>\n",
       "<table border=\"1\" class=\"dataframe\">\n",
       "  <thead>\n",
       "    <tr style=\"text-align: right;\">\n",
       "      <th></th>\n",
       "      <th>SEQN</th>\n",
       "      <th>DPQ010</th>\n",
       "      <th>DPQ020</th>\n",
       "      <th>DPQ030</th>\n",
       "      <th>DPQ040</th>\n",
       "      <th>DPQ050</th>\n",
       "      <th>DPQ060</th>\n",
       "      <th>DPQ070</th>\n",
       "      <th>DPQ080</th>\n",
       "      <th>DPQ090</th>\n",
       "      <th>RIAGENDR</th>\n",
       "      <th>RIDAGEYR</th>\n",
       "      <th>RIDRETH1</th>\n",
       "      <th>DMDEDUC</th>\n",
       "      <th>INDFMINC</th>\n",
       "    </tr>\n",
       "  </thead>\n",
       "  <tbody>\n",
       "    <tr>\n",
       "      <th>0</th>\n",
       "      <td>31130</td>\n",
       "      <td>NaN</td>\n",
       "      <td>NaN</td>\n",
       "      <td>NaN</td>\n",
       "      <td>NaN</td>\n",
       "      <td>NaN</td>\n",
       "      <td>NaN</td>\n",
       "      <td>NaN</td>\n",
       "      <td>NaN</td>\n",
       "      <td>NaN</td>\n",
       "      <td>2</td>\n",
       "      <td>85</td>\n",
       "      <td>3</td>\n",
       "      <td>4</td>\n",
       "      <td>4.0</td>\n",
       "    </tr>\n",
       "    <tr>\n",
       "      <th>1</th>\n",
       "      <td>31131</td>\n",
       "      <td>0.0</td>\n",
       "      <td>0.0</td>\n",
       "      <td>0.0</td>\n",
       "      <td>0.0</td>\n",
       "      <td>0.0</td>\n",
       "      <td>0.0</td>\n",
       "      <td>0.0</td>\n",
       "      <td>0.0</td>\n",
       "      <td>0.0</td>\n",
       "      <td>2</td>\n",
       "      <td>44</td>\n",
       "      <td>4</td>\n",
       "      <td>4</td>\n",
       "      <td>11.0</td>\n",
       "    </tr>\n",
       "    <tr>\n",
       "      <th>2</th>\n",
       "      <td>31132</td>\n",
       "      <td>0.0</td>\n",
       "      <td>0.0</td>\n",
       "      <td>0.0</td>\n",
       "      <td>0.0</td>\n",
       "      <td>0.0</td>\n",
       "      <td>0.0</td>\n",
       "      <td>0.0</td>\n",
       "      <td>0.0</td>\n",
       "      <td>0.0</td>\n",
       "      <td>1</td>\n",
       "      <td>70</td>\n",
       "      <td>3</td>\n",
       "      <td>5</td>\n",
       "      <td>11.0</td>\n",
       "    </tr>\n",
       "    <tr>\n",
       "      <th>3</th>\n",
       "      <td>31134</td>\n",
       "      <td>0.0</td>\n",
       "      <td>0.0</td>\n",
       "      <td>0.0</td>\n",
       "      <td>0.0</td>\n",
       "      <td>0.0</td>\n",
       "      <td>0.0</td>\n",
       "      <td>0.0</td>\n",
       "      <td>0.0</td>\n",
       "      <td>0.0</td>\n",
       "      <td>1</td>\n",
       "      <td>73</td>\n",
       "      <td>3</td>\n",
       "      <td>3</td>\n",
       "      <td>12.0</td>\n",
       "    </tr>\n",
       "    <tr>\n",
       "      <th>4</th>\n",
       "      <td>31139</td>\n",
       "      <td>0.0</td>\n",
       "      <td>0.0</td>\n",
       "      <td>0.0</td>\n",
       "      <td>0.0</td>\n",
       "      <td>3.0</td>\n",
       "      <td>1.0</td>\n",
       "      <td>0.0</td>\n",
       "      <td>0.0</td>\n",
       "      <td>0.0</td>\n",
       "      <td>2</td>\n",
       "      <td>18</td>\n",
       "      <td>2</td>\n",
       "      <td>3</td>\n",
       "      <td>11.0</td>\n",
       "    </tr>\n",
       "    <tr>\n",
       "      <th>5</th>\n",
       "      <td>31143</td>\n",
       "      <td>0.0</td>\n",
       "      <td>1.0</td>\n",
       "      <td>1.0</td>\n",
       "      <td>1.0</td>\n",
       "      <td>1.0</td>\n",
       "      <td>1.0</td>\n",
       "      <td>1.0</td>\n",
       "      <td>0.0</td>\n",
       "      <td>0.0</td>\n",
       "      <td>1</td>\n",
       "      <td>19</td>\n",
       "      <td>3</td>\n",
       "      <td>4</td>\n",
       "      <td>11.0</td>\n",
       "    </tr>\n",
       "    <tr>\n",
       "      <th>6</th>\n",
       "      <td>31144</td>\n",
       "      <td>0.0</td>\n",
       "      <td>0.0</td>\n",
       "      <td>0.0</td>\n",
       "      <td>0.0</td>\n",
       "      <td>0.0</td>\n",
       "      <td>0.0</td>\n",
       "      <td>0.0</td>\n",
       "      <td>0.0</td>\n",
       "      <td>0.0</td>\n",
       "      <td>1</td>\n",
       "      <td>21</td>\n",
       "      <td>2</td>\n",
       "      <td>3</td>\n",
       "      <td>3.0</td>\n",
       "    </tr>\n",
       "    <tr>\n",
       "      <th>7</th>\n",
       "      <td>31149</td>\n",
       "      <td>0.0</td>\n",
       "      <td>0.0</td>\n",
       "      <td>0.0</td>\n",
       "      <td>0.0</td>\n",
       "      <td>0.0</td>\n",
       "      <td>0.0</td>\n",
       "      <td>0.0</td>\n",
       "      <td>0.0</td>\n",
       "      <td>0.0</td>\n",
       "      <td>2</td>\n",
       "      <td>85</td>\n",
       "      <td>3</td>\n",
       "      <td>2</td>\n",
       "      <td>1.0</td>\n",
       "    </tr>\n",
       "    <tr>\n",
       "      <th>8</th>\n",
       "      <td>31150</td>\n",
       "      <td>1.0</td>\n",
       "      <td>0.0</td>\n",
       "      <td>0.0</td>\n",
       "      <td>0.0</td>\n",
       "      <td>0.0</td>\n",
       "      <td>0.0</td>\n",
       "      <td>0.0</td>\n",
       "      <td>0.0</td>\n",
       "      <td>0.0</td>\n",
       "      <td>1</td>\n",
       "      <td>79</td>\n",
       "      <td>3</td>\n",
       "      <td>3</td>\n",
       "      <td>3.0</td>\n",
       "    </tr>\n",
       "    <tr>\n",
       "      <th>9</th>\n",
       "      <td>31151</td>\n",
       "      <td>0.0</td>\n",
       "      <td>0.0</td>\n",
       "      <td>1.0</td>\n",
       "      <td>1.0</td>\n",
       "      <td>0.0</td>\n",
       "      <td>0.0</td>\n",
       "      <td>1.0</td>\n",
       "      <td>0.0</td>\n",
       "      <td>0.0</td>\n",
       "      <td>2</td>\n",
       "      <td>59</td>\n",
       "      <td>4</td>\n",
       "      <td>3</td>\n",
       "      <td>7.0</td>\n",
       "    </tr>\n",
       "  </tbody>\n",
       "</table>\n",
       "</div>"
      ],
      "text/plain": [
       "    SEQN  DPQ010  DPQ020  DPQ030  DPQ040  DPQ050  DPQ060  DPQ070  DPQ080  \\\n",
       "0  31130     NaN     NaN     NaN     NaN     NaN     NaN     NaN     NaN   \n",
       "1  31131     0.0     0.0     0.0     0.0     0.0     0.0     0.0     0.0   \n",
       "2  31132     0.0     0.0     0.0     0.0     0.0     0.0     0.0     0.0   \n",
       "3  31134     0.0     0.0     0.0     0.0     0.0     0.0     0.0     0.0   \n",
       "4  31139     0.0     0.0     0.0     0.0     3.0     1.0     0.0     0.0   \n",
       "5  31143     0.0     1.0     1.0     1.0     1.0     1.0     1.0     0.0   \n",
       "6  31144     0.0     0.0     0.0     0.0     0.0     0.0     0.0     0.0   \n",
       "7  31149     0.0     0.0     0.0     0.0     0.0     0.0     0.0     0.0   \n",
       "8  31150     1.0     0.0     0.0     0.0     0.0     0.0     0.0     0.0   \n",
       "9  31151     0.0     0.0     1.0     1.0     0.0     0.0     1.0     0.0   \n",
       "\n",
       "   DPQ090  RIAGENDR  RIDAGEYR  RIDRETH1  DMDEDUC  INDFMINC  \n",
       "0     NaN         2        85         3        4       4.0  \n",
       "1     0.0         2        44         4        4      11.0  \n",
       "2     0.0         1        70         3        5      11.0  \n",
       "3     0.0         1        73         3        3      12.0  \n",
       "4     0.0         2        18         2        3      11.0  \n",
       "5     0.0         1        19         3        4      11.0  \n",
       "6     0.0         1        21         2        3       3.0  \n",
       "7     0.0         2        85         3        2       1.0  \n",
       "8     0.0         1        79         3        3       3.0  \n",
       "9     0.0         2        59         4        3       7.0  "
      ]
     },
     "execution_count": 114,
     "metadata": {},
     "output_type": "execute_result"
    }
   ],
   "source": [
    "df_demo_phd.head(10)"
   ]
  },
  {
   "cell_type": "markdown",
   "metadata": {},
   "source": [
    "Obtendo o shape do DataFrame"
   ]
  },
  {
   "cell_type": "code",
   "execution_count": 115,
   "metadata": {},
   "outputs": [
    {
     "name": "stdout",
     "output_type": "stream",
     "text": [
      "\n",
      "Amostras dp dataset: 5334\n",
      "Variáveis do dataset: 15\n"
     ]
    }
   ],
   "source": [
    "print(f\"\\nAmostras dp dataset: {df_demo_phd.shape[0]}\")\n",
    "print(f\"Variáveis do dataset: {df_demo_phd.shape[1]}\")"
   ]
  },
  {
   "cell_type": "markdown",
   "metadata": {},
   "source": [
    "Informações do DataFrame "
   ]
  },
  {
   "cell_type": "code",
   "execution_count": 116,
   "metadata": {},
   "outputs": [
    {
     "name": "stdout",
     "output_type": "stream",
     "text": [
      "<class 'pandas.core.frame.DataFrame'>\n",
      "RangeIndex: 5334 entries, 0 to 5333\n",
      "Data columns (total 15 columns):\n",
      " #   Column    Non-Null Count  Dtype  \n",
      "---  ------    --------------  -----  \n",
      " 0   SEQN      5334 non-null   int64  \n",
      " 1   DPQ010    4836 non-null   float64\n",
      " 2   DPQ020    4836 non-null   float64\n",
      " 3   DPQ030    4836 non-null   float64\n",
      " 4   DPQ040    4836 non-null   float64\n",
      " 5   DPQ050    4836 non-null   float64\n",
      " 6   DPQ060    4836 non-null   float64\n",
      " 7   DPQ070    4836 non-null   float64\n",
      " 8   DPQ080    4836 non-null   float64\n",
      " 9   DPQ090    4836 non-null   float64\n",
      " 10  RIAGENDR  5334 non-null   int64  \n",
      " 11  RIDAGEYR  5334 non-null   int64  \n",
      " 12  RIDRETH1  5334 non-null   int64  \n",
      " 13  DMDEDUC   5334 non-null   int64  \n",
      " 14  INDFMINC  5287 non-null   float64\n",
      "dtypes: float64(10), int64(5)\n",
      "memory usage: 625.2 KB\n"
     ]
    }
   ],
   "source": [
    "df_demo_phd.info()"
   ]
  },
  {
   "cell_type": "markdown",
   "metadata": {},
   "source": [
    "Observando se o DataFrame possui valores nulos, e realizando o tratamento caso tenha."
   ]
  },
  {
   "cell_type": "code",
   "execution_count": 117,
   "metadata": {},
   "outputs": [
    {
     "data": {
      "text/plain": [
       "SEQN          0\n",
       "DPQ010      498\n",
       "DPQ020      498\n",
       "DPQ030      498\n",
       "DPQ040      498\n",
       "DPQ050      498\n",
       "DPQ060      498\n",
       "DPQ070      498\n",
       "DPQ080      498\n",
       "DPQ090      498\n",
       "RIAGENDR      0\n",
       "RIDAGEYR      0\n",
       "RIDRETH1      0\n",
       "DMDEDUC       0\n",
       "INDFMINC     47\n",
       "dtype: int64"
      ]
     },
     "execution_count": 117,
     "metadata": {},
     "output_type": "execute_result"
    }
   ],
   "source": [
    "df_demo_phd.isnull().sum()"
   ]
  },
  {
   "cell_type": "code",
   "execution_count": 118,
   "metadata": {},
   "outputs": [
    {
     "name": "stdout",
     "output_type": "stream",
     "text": [
      "\n",
      "Linhas Total do DataFrame: 5334\n"
     ]
    },
    {
     "data": {
      "text/plain": [
       "[('DPQ010', 498),\n",
       " ('DPQ020', 498),\n",
       " ('DPQ030', 498),\n",
       " ('DPQ040', 498),\n",
       " ('DPQ050', 498),\n",
       " ('DPQ060', 498),\n",
       " ('DPQ070', 498),\n",
       " ('DPQ080', 498),\n",
       " ('DPQ090', 498),\n",
       " ('INDFMINC', 47)]"
      ]
     },
     "metadata": {},
     "output_type": "display_data"
    }
   ],
   "source": [
    "n_linhas = df_demo_phd.shape[0]\n",
    "n_colunas = df_demo_phd.shape[1]\n",
    "\n",
    "colunas_dados_faltante = (\n",
    "    [(name, i) for i, name in zip(df_demo_phd.isnull().sum(),\n",
    "             df_demo_phd.isnull().sum().index) if i != 0])\n",
    "print(f\"\\nLinhas Total do DataFrame: {n_linhas}\")\n",
    "display(colunas_dados_faltante)"
   ]
  },
  {
   "cell_type": "code",
   "execution_count": 119,
   "metadata": {},
   "outputs": [
    {
     "name": "stdout",
     "output_type": "stream",
     "text": [
      "\n",
      "Dados Faltantes: DPQ010: 9.34%\n",
      "Dados Faltantes: DPQ020: 9.34%\n",
      "Dados Faltantes: DPQ030: 9.34%\n",
      "Dados Faltantes: DPQ040: 9.34%\n",
      "Dados Faltantes: DPQ050: 9.34%\n",
      "Dados Faltantes: DPQ060: 9.34%\n",
      "Dados Faltantes: DPQ070: 9.34%\n",
      "Dados Faltantes: DPQ080: 9.34%\n",
      "Dados Faltantes: DPQ090: 9.34%\n",
      "Dados Faltantes: INDFMINC: 0.88%\n"
     ]
    }
   ],
   "source": [
    "def percent_dados_faltantes_colunas(colunas):\n",
    "    print()\n",
    "    for nome_col, valor in colunas:\n",
    "        dados_falt = (((valor/n_linhas)*100))\n",
    "        print(f\"Dados Faltantes: {nome_col}: {dados_falt:.2f}%\")\n",
    "percent_dados_faltantes_colunas(colunas_dados_faltante)"
   ]
  },
  {
   "cell_type": "markdown",
   "metadata": {},
   "source": [
    "Ao analisar os percentuais de valores faltantes, nota-se que eles são consideravelmente altos. No entanto, dado o tamanho substancial do conjunto de dados, é viável descartar as linhas que contenham valores faltantes."
   ]
  },
  {
   "cell_type": "code",
   "execution_count": 120,
   "metadata": {},
   "outputs": [
    {
     "name": "stdout",
     "output_type": "stream",
     "text": [
      "\n",
      "Shape antes de remover os valores faltantes: (5334, 15)\n",
      "Shape depois de remover os valores faltantes: (4800, 15)\n"
     ]
    }
   ],
   "source": [
    "print(f\"\\nShape antes de remover os valores faltantes: {df_demo_phd.shape}\")\n",
    "\n",
    "# Removendo os valores faltantes das linhas.\n",
    "df_demo_phd.dropna(axis=0, inplace=True)\n",
    "\n",
    "print(f\"Shape depois de remover os valores faltantes: {df_demo_phd.shape}\")"
   ]
  },
  {
   "cell_type": "markdown",
   "metadata": {},
   "source": [
    "<center> <h3 style=\"background-color:#ECF7AE; color:#3F403D; font-weight: bold\" >Carregando e realizando a limpeza da base de dados PAG_HEI</h3></center>"
   ]
  },
  {
   "cell_type": "code",
   "execution_count": 121,
   "metadata": {},
   "outputs": [],
   "source": [
    "df_pag_hei = pd.read_csv(\"./dados_projeto/PAG_HEI.csv\")"
   ]
  },
  {
   "cell_type": "code",
   "execution_count": 122,
   "metadata": {},
   "outputs": [
    {
     "data": {
      "text/html": [
       "<div>\n",
       "<style scoped>\n",
       "    .dataframe tbody tr th:only-of-type {\n",
       "        vertical-align: middle;\n",
       "    }\n",
       "\n",
       "    .dataframe tbody tr th {\n",
       "        vertical-align: top;\n",
       "    }\n",
       "\n",
       "    .dataframe thead th {\n",
       "        text-align: right;\n",
       "    }\n",
       "</style>\n",
       "<table border=\"1\" class=\"dataframe\">\n",
       "  <thead>\n",
       "    <tr style=\"text-align: right;\">\n",
       "      <th></th>\n",
       "      <th>SEQN</th>\n",
       "      <th>PAG_MINW</th>\n",
       "      <th>ADHERENCE</th>\n",
       "      <th>HEI2015C1_TOTALVEG</th>\n",
       "      <th>HEI2015C2_GREEN_AND_BEAN</th>\n",
       "      <th>HEI2015C3_TOTALFRUIT</th>\n",
       "      <th>HEI2015C4_WHOLEFRUIT</th>\n",
       "      <th>HEI2015C5_WHOLEGRAIN</th>\n",
       "      <th>HEI2015C6_TOTALDAIRY</th>\n",
       "      <th>HEI2015C7_TOTPROT</th>\n",
       "      <th>HEI2015C8_SEAPLANT_PROT</th>\n",
       "      <th>HEI2015C9_FATTYACID</th>\n",
       "      <th>HEI2015C10_SODIUM</th>\n",
       "      <th>HEI2015C11_REFINEDGRAIN</th>\n",
       "      <th>HEI2015C12_SFAT</th>\n",
       "      <th>HEI2015C13_ADDSUG</th>\n",
       "      <th>HEI2015_TOTAL_SCORE</th>\n",
       "    </tr>\n",
       "  </thead>\n",
       "  <tbody>\n",
       "    <tr>\n",
       "      <th>0</th>\n",
       "      <td>31128</td>\n",
       "      <td>NaN</td>\n",
       "      <td>NaN</td>\n",
       "      <td>3.083350</td>\n",
       "      <td>0.000000</td>\n",
       "      <td>3.927008</td>\n",
       "      <td>5.000000</td>\n",
       "      <td>0.000000</td>\n",
       "      <td>5.000000</td>\n",
       "      <td>4.251329</td>\n",
       "      <td>0.000000</td>\n",
       "      <td>2.487572</td>\n",
       "      <td>6.911882</td>\n",
       "      <td>10.000000</td>\n",
       "      <td>0.818029</td>\n",
       "      <td>6.408092</td>\n",
       "      <td>47.887262</td>\n",
       "    </tr>\n",
       "    <tr>\n",
       "      <th>1</th>\n",
       "      <td>31129</td>\n",
       "      <td>285.450346</td>\n",
       "      <td>2.0</td>\n",
       "      <td>1.697761</td>\n",
       "      <td>0.000000</td>\n",
       "      <td>3.731602</td>\n",
       "      <td>4.929186</td>\n",
       "      <td>0.527631</td>\n",
       "      <td>3.887809</td>\n",
       "      <td>4.693141</td>\n",
       "      <td>0.928562</td>\n",
       "      <td>3.740758</td>\n",
       "      <td>6.146441</td>\n",
       "      <td>7.274979</td>\n",
       "      <td>8.006457</td>\n",
       "      <td>0.000000</td>\n",
       "      <td>45.564326</td>\n",
       "    </tr>\n",
       "    <tr>\n",
       "      <th>2</th>\n",
       "      <td>31130</td>\n",
       "      <td>0.000000</td>\n",
       "      <td>1.0</td>\n",
       "      <td>NaN</td>\n",
       "      <td>NaN</td>\n",
       "      <td>NaN</td>\n",
       "      <td>NaN</td>\n",
       "      <td>NaN</td>\n",
       "      <td>NaN</td>\n",
       "      <td>NaN</td>\n",
       "      <td>NaN</td>\n",
       "      <td>NaN</td>\n",
       "      <td>NaN</td>\n",
       "      <td>NaN</td>\n",
       "      <td>NaN</td>\n",
       "      <td>NaN</td>\n",
       "      <td>NaN</td>\n",
       "    </tr>\n",
       "    <tr>\n",
       "      <th>3</th>\n",
       "      <td>31131</td>\n",
       "      <td>264.711316</td>\n",
       "      <td>2.0</td>\n",
       "      <td>3.115103</td>\n",
       "      <td>0.000000</td>\n",
       "      <td>5.000000</td>\n",
       "      <td>1.320674</td>\n",
       "      <td>0.000000</td>\n",
       "      <td>3.141062</td>\n",
       "      <td>4.071959</td>\n",
       "      <td>2.052399</td>\n",
       "      <td>0.684985</td>\n",
       "      <td>2.297100</td>\n",
       "      <td>9.512964</td>\n",
       "      <td>0.438428</td>\n",
       "      <td>3.919226</td>\n",
       "      <td>35.553899</td>\n",
       "    </tr>\n",
       "    <tr>\n",
       "      <th>4</th>\n",
       "      <td>31132</td>\n",
       "      <td>1353.348730</td>\n",
       "      <td>3.0</td>\n",
       "      <td>3.509081</td>\n",
       "      <td>0.000000</td>\n",
       "      <td>5.000000</td>\n",
       "      <td>5.000000</td>\n",
       "      <td>5.000000</td>\n",
       "      <td>4.448512</td>\n",
       "      <td>5.000000</td>\n",
       "      <td>0.000000</td>\n",
       "      <td>2.050769</td>\n",
       "      <td>7.369489</td>\n",
       "      <td>8.887880</td>\n",
       "      <td>8.186877</td>\n",
       "      <td>9.099088</td>\n",
       "      <td>63.551696</td>\n",
       "    </tr>\n",
       "    <tr>\n",
       "      <th>5</th>\n",
       "      <td>31133</td>\n",
       "      <td>0.000000</td>\n",
       "      <td>1.0</td>\n",
       "      <td>1.417400</td>\n",
       "      <td>0.000000</td>\n",
       "      <td>2.083333</td>\n",
       "      <td>1.317204</td>\n",
       "      <td>0.000000</td>\n",
       "      <td>3.176179</td>\n",
       "      <td>3.617204</td>\n",
       "      <td>0.470430</td>\n",
       "      <td>5.657701</td>\n",
       "      <td>5.589008</td>\n",
       "      <td>0.000000</td>\n",
       "      <td>6.473871</td>\n",
       "      <td>5.779322</td>\n",
       "      <td>35.581653</td>\n",
       "    </tr>\n",
       "    <tr>\n",
       "      <th>6</th>\n",
       "      <td>31134</td>\n",
       "      <td>1011.478060</td>\n",
       "      <td>3.0</td>\n",
       "      <td>2.845772</td>\n",
       "      <td>1.283933</td>\n",
       "      <td>2.629005</td>\n",
       "      <td>5.000000</td>\n",
       "      <td>2.217331</td>\n",
       "      <td>2.313900</td>\n",
       "      <td>5.000000</td>\n",
       "      <td>1.268648</td>\n",
       "      <td>2.958985</td>\n",
       "      <td>0.000000</td>\n",
       "      <td>5.627488</td>\n",
       "      <td>5.863078</td>\n",
       "      <td>5.878686</td>\n",
       "      <td>42.886826</td>\n",
       "    </tr>\n",
       "    <tr>\n",
       "      <th>7</th>\n",
       "      <td>31136</td>\n",
       "      <td>713.625866</td>\n",
       "      <td>3.0</td>\n",
       "      <td>NaN</td>\n",
       "      <td>NaN</td>\n",
       "      <td>NaN</td>\n",
       "      <td>NaN</td>\n",
       "      <td>NaN</td>\n",
       "      <td>NaN</td>\n",
       "      <td>NaN</td>\n",
       "      <td>NaN</td>\n",
       "      <td>NaN</td>\n",
       "      <td>NaN</td>\n",
       "      <td>NaN</td>\n",
       "      <td>NaN</td>\n",
       "      <td>NaN</td>\n",
       "      <td>NaN</td>\n",
       "    </tr>\n",
       "    <tr>\n",
       "      <th>8</th>\n",
       "      <td>31137</td>\n",
       "      <td>1423.787529</td>\n",
       "      <td>3.0</td>\n",
       "      <td>1.516093</td>\n",
       "      <td>0.000000</td>\n",
       "      <td>0.828672</td>\n",
       "      <td>0.000000</td>\n",
       "      <td>0.676749</td>\n",
       "      <td>5.000000</td>\n",
       "      <td>3.526000</td>\n",
       "      <td>0.000000</td>\n",
       "      <td>4.379950</td>\n",
       "      <td>8.192344</td>\n",
       "      <td>7.032194</td>\n",
       "      <td>5.461700</td>\n",
       "      <td>0.000000</td>\n",
       "      <td>36.613702</td>\n",
       "    </tr>\n",
       "    <tr>\n",
       "      <th>9</th>\n",
       "      <td>31138</td>\n",
       "      <td>NaN</td>\n",
       "      <td>NaN</td>\n",
       "      <td>3.389396</td>\n",
       "      <td>0.000000</td>\n",
       "      <td>5.000000</td>\n",
       "      <td>5.000000</td>\n",
       "      <td>1.558511</td>\n",
       "      <td>5.000000</td>\n",
       "      <td>4.079000</td>\n",
       "      <td>0.000000</td>\n",
       "      <td>7.149274</td>\n",
       "      <td>2.288504</td>\n",
       "      <td>5.801370</td>\n",
       "      <td>7.816354</td>\n",
       "      <td>7.899627</td>\n",
       "      <td>54.982037</td>\n",
       "    </tr>\n",
       "  </tbody>\n",
       "</table>\n",
       "</div>"
      ],
      "text/plain": [
       "    SEQN     PAG_MINW  ADHERENCE  HEI2015C1_TOTALVEG  \\\n",
       "0  31128          NaN        NaN            3.083350   \n",
       "1  31129   285.450346        2.0            1.697761   \n",
       "2  31130     0.000000        1.0                 NaN   \n",
       "3  31131   264.711316        2.0            3.115103   \n",
       "4  31132  1353.348730        3.0            3.509081   \n",
       "5  31133     0.000000        1.0            1.417400   \n",
       "6  31134  1011.478060        3.0            2.845772   \n",
       "7  31136   713.625866        3.0                 NaN   \n",
       "8  31137  1423.787529        3.0            1.516093   \n",
       "9  31138          NaN        NaN            3.389396   \n",
       "\n",
       "   HEI2015C2_GREEN_AND_BEAN  HEI2015C3_TOTALFRUIT  HEI2015C4_WHOLEFRUIT  \\\n",
       "0                  0.000000              3.927008              5.000000   \n",
       "1                  0.000000              3.731602              4.929186   \n",
       "2                       NaN                   NaN                   NaN   \n",
       "3                  0.000000              5.000000              1.320674   \n",
       "4                  0.000000              5.000000              5.000000   \n",
       "5                  0.000000              2.083333              1.317204   \n",
       "6                  1.283933              2.629005              5.000000   \n",
       "7                       NaN                   NaN                   NaN   \n",
       "8                  0.000000              0.828672              0.000000   \n",
       "9                  0.000000              5.000000              5.000000   \n",
       "\n",
       "   HEI2015C5_WHOLEGRAIN  HEI2015C6_TOTALDAIRY  HEI2015C7_TOTPROT  \\\n",
       "0              0.000000              5.000000           4.251329   \n",
       "1              0.527631              3.887809           4.693141   \n",
       "2                   NaN                   NaN                NaN   \n",
       "3              0.000000              3.141062           4.071959   \n",
       "4              5.000000              4.448512           5.000000   \n",
       "5              0.000000              3.176179           3.617204   \n",
       "6              2.217331              2.313900           5.000000   \n",
       "7                   NaN                   NaN                NaN   \n",
       "8              0.676749              5.000000           3.526000   \n",
       "9              1.558511              5.000000           4.079000   \n",
       "\n",
       "   HEI2015C8_SEAPLANT_PROT  HEI2015C9_FATTYACID  HEI2015C10_SODIUM  \\\n",
       "0                 0.000000             2.487572           6.911882   \n",
       "1                 0.928562             3.740758           6.146441   \n",
       "2                      NaN                  NaN                NaN   \n",
       "3                 2.052399             0.684985           2.297100   \n",
       "4                 0.000000             2.050769           7.369489   \n",
       "5                 0.470430             5.657701           5.589008   \n",
       "6                 1.268648             2.958985           0.000000   \n",
       "7                      NaN                  NaN                NaN   \n",
       "8                 0.000000             4.379950           8.192344   \n",
       "9                 0.000000             7.149274           2.288504   \n",
       "\n",
       "   HEI2015C11_REFINEDGRAIN  HEI2015C12_SFAT  HEI2015C13_ADDSUG  \\\n",
       "0                10.000000         0.818029           6.408092   \n",
       "1                 7.274979         8.006457           0.000000   \n",
       "2                      NaN              NaN                NaN   \n",
       "3                 9.512964         0.438428           3.919226   \n",
       "4                 8.887880         8.186877           9.099088   \n",
       "5                 0.000000         6.473871           5.779322   \n",
       "6                 5.627488         5.863078           5.878686   \n",
       "7                      NaN              NaN                NaN   \n",
       "8                 7.032194         5.461700           0.000000   \n",
       "9                 5.801370         7.816354           7.899627   \n",
       "\n",
       "   HEI2015_TOTAL_SCORE  \n",
       "0            47.887262  \n",
       "1            45.564326  \n",
       "2                  NaN  \n",
       "3            35.553899  \n",
       "4            63.551696  \n",
       "5            35.581653  \n",
       "6            42.886826  \n",
       "7                  NaN  \n",
       "8            36.613702  \n",
       "9            54.982037  "
      ]
     },
     "execution_count": 122,
     "metadata": {},
     "output_type": "execute_result"
    }
   ],
   "source": [
    "df_pag_hei.head(10)"
   ]
  },
  {
   "cell_type": "markdown",
   "metadata": {},
   "source": [
    "Obtendo o shape do DataFrame"
   ]
  },
  {
   "cell_type": "code",
   "execution_count": 123,
   "metadata": {},
   "outputs": [
    {
     "name": "stdout",
     "output_type": "stream",
     "text": [
      "\n",
      "Amostras dp dataset: 9424\n",
      "Variáveis do dataset: 17\n"
     ]
    }
   ],
   "source": [
    "print(f\"\\nAmostras dp dataset: {df_pag_hei.shape[0]}\")\n",
    "print(f\"Variáveis do dataset: {df_pag_hei.shape[1]}\")"
   ]
  },
  {
   "cell_type": "markdown",
   "metadata": {},
   "source": [
    "Informações do DataFrame"
   ]
  },
  {
   "cell_type": "code",
   "execution_count": 124,
   "metadata": {},
   "outputs": [
    {
     "name": "stdout",
     "output_type": "stream",
     "text": [
      "<class 'pandas.core.frame.DataFrame'>\n",
      "RangeIndex: 9424 entries, 0 to 9423\n",
      "Data columns (total 17 columns):\n",
      " #   Column                    Non-Null Count  Dtype  \n",
      "---  ------                    --------------  -----  \n",
      " 0   SEQN                      9424 non-null   int64  \n",
      " 1   PAG_MINW                  7150 non-null   float64\n",
      " 2   ADHERENCE                 7150 non-null   float64\n",
      " 3   HEI2015C1_TOTALVEG        8549 non-null   float64\n",
      " 4   HEI2015C2_GREEN_AND_BEAN  8549 non-null   float64\n",
      " 5   HEI2015C3_TOTALFRUIT      8549 non-null   float64\n",
      " 6   HEI2015C4_WHOLEFRUIT      8549 non-null   float64\n",
      " 7   HEI2015C5_WHOLEGRAIN      8549 non-null   float64\n",
      " 8   HEI2015C6_TOTALDAIRY      8549 non-null   float64\n",
      " 9   HEI2015C7_TOTPROT         8549 non-null   float64\n",
      " 10  HEI2015C8_SEAPLANT_PROT   8549 non-null   float64\n",
      " 11  HEI2015C9_FATTYACID       8549 non-null   float64\n",
      " 12  HEI2015C10_SODIUM         8549 non-null   float64\n",
      " 13  HEI2015C11_REFINEDGRAIN   8549 non-null   float64\n",
      " 14  HEI2015C12_SFAT           8549 non-null   float64\n",
      " 15  HEI2015C13_ADDSUG         8549 non-null   float64\n",
      " 16  HEI2015_TOTAL_SCORE       8549 non-null   float64\n",
      "dtypes: float64(16), int64(1)\n",
      "memory usage: 1.2 MB\n"
     ]
    }
   ],
   "source": [
    "df_pag_hei.info()"
   ]
  },
  {
   "cell_type": "markdown",
   "metadata": {},
   "source": [
    "Observando se o DataFrame possui valores nulos, e realizando o tratamento caso tenha."
   ]
  },
  {
   "cell_type": "code",
   "execution_count": 125,
   "metadata": {},
   "outputs": [
    {
     "data": {
      "text/plain": [
       "SEQN                           0\n",
       "PAG_MINW                    2274\n",
       "ADHERENCE                   2274\n",
       "HEI2015C1_TOTALVEG           875\n",
       "HEI2015C2_GREEN_AND_BEAN     875\n",
       "HEI2015C3_TOTALFRUIT         875\n",
       "HEI2015C4_WHOLEFRUIT         875\n",
       "HEI2015C5_WHOLEGRAIN         875\n",
       "HEI2015C6_TOTALDAIRY         875\n",
       "HEI2015C7_TOTPROT            875\n",
       "HEI2015C8_SEAPLANT_PROT      875\n",
       "HEI2015C9_FATTYACID          875\n",
       "HEI2015C10_SODIUM            875\n",
       "HEI2015C11_REFINEDGRAIN      875\n",
       "HEI2015C12_SFAT              875\n",
       "HEI2015C13_ADDSUG            875\n",
       "HEI2015_TOTAL_SCORE          875\n",
       "dtype: int64"
      ]
     },
     "execution_count": 125,
     "metadata": {},
     "output_type": "execute_result"
    }
   ],
   "source": [
    "df_pag_hei.isnull().sum()"
   ]
  },
  {
   "cell_type": "markdown",
   "metadata": {},
   "source": []
  },
  {
   "cell_type": "code",
   "execution_count": 126,
   "metadata": {},
   "outputs": [
    {
     "name": "stdout",
     "output_type": "stream",
     "text": [
      "\n",
      "Linhas Total do DataFrame: 9424\n"
     ]
    },
    {
     "data": {
      "text/plain": [
       "[('PAG_MINW', 2274),\n",
       " ('ADHERENCE', 2274),\n",
       " ('HEI2015C1_TOTALVEG', 875),\n",
       " ('HEI2015C2_GREEN_AND_BEAN', 875),\n",
       " ('HEI2015C3_TOTALFRUIT', 875),\n",
       " ('HEI2015C4_WHOLEFRUIT', 875),\n",
       " ('HEI2015C5_WHOLEGRAIN', 875),\n",
       " ('HEI2015C6_TOTALDAIRY', 875),\n",
       " ('HEI2015C7_TOTPROT', 875),\n",
       " ('HEI2015C8_SEAPLANT_PROT', 875),\n",
       " ('HEI2015C9_FATTYACID', 875),\n",
       " ('HEI2015C10_SODIUM', 875),\n",
       " ('HEI2015C11_REFINEDGRAIN', 875),\n",
       " ('HEI2015C12_SFAT', 875),\n",
       " ('HEI2015C13_ADDSUG', 875),\n",
       " ('HEI2015_TOTAL_SCORE', 875)]"
      ]
     },
     "metadata": {},
     "output_type": "display_data"
    }
   ],
   "source": [
    "n_linhas_pag_hei = df_pag_hei.shape[0]\n",
    "n_colunas_pag_hei = df_pag_hei.shape[1]\n",
    "\n",
    "colunas_dados_faltante_pag_hei = (\n",
    "    [(name, i) for i, name in zip(df_pag_hei.isnull().sum(),\n",
    "             df_pag_hei.isnull().sum().index) if i != 0])\n",
    "print(f\"\\nLinhas Total do DataFrame: {n_linhas_pag_hei}\")\n",
    "display(colunas_dados_faltante_pag_hei)"
   ]
  },
  {
   "cell_type": "code",
   "execution_count": 127,
   "metadata": {},
   "outputs": [
    {
     "name": "stdout",
     "output_type": "stream",
     "text": [
      "\n",
      "Dados Faltantes: PAG_MINW: 24.13%\n",
      "Dados Faltantes: ADHERENCE: 24.13%\n",
      "Dados Faltantes: HEI2015C1_TOTALVEG: 9.28%\n",
      "Dados Faltantes: HEI2015C2_GREEN_AND_BEAN: 9.28%\n",
      "Dados Faltantes: HEI2015C3_TOTALFRUIT: 9.28%\n",
      "Dados Faltantes: HEI2015C4_WHOLEFRUIT: 9.28%\n",
      "Dados Faltantes: HEI2015C5_WHOLEGRAIN: 9.28%\n",
      "Dados Faltantes: HEI2015C6_TOTALDAIRY: 9.28%\n",
      "Dados Faltantes: HEI2015C7_TOTPROT: 9.28%\n",
      "Dados Faltantes: HEI2015C8_SEAPLANT_PROT: 9.28%\n",
      "Dados Faltantes: HEI2015C9_FATTYACID: 9.28%\n",
      "Dados Faltantes: HEI2015C10_SODIUM: 9.28%\n",
      "Dados Faltantes: HEI2015C11_REFINEDGRAIN: 9.28%\n",
      "Dados Faltantes: HEI2015C12_SFAT: 9.28%\n",
      "Dados Faltantes: HEI2015C13_ADDSUG: 9.28%\n",
      "Dados Faltantes: HEI2015_TOTAL_SCORE: 9.28%\n"
     ]
    }
   ],
   "source": [
    "def percent_dados_faltantes_colunas(colunas):\n",
    "    print()\n",
    "    for nome_col, valor in colunas:\n",
    "        dados_falt = (((valor/n_linhas_pag_hei)*100))\n",
    "        print(f\"Dados Faltantes: {nome_col}: {dados_falt:.2f}%\")\n",
    "percent_dados_faltantes_colunas(colunas_dados_faltante_pag_hei)"
   ]
  },
  {
   "cell_type": "code",
   "execution_count": 128,
   "metadata": {},
   "outputs": [
    {
     "name": "stdout",
     "output_type": "stream",
     "text": [
      "\n",
      "Shape antes de remover os valores faltantes: (9424, 17)\n",
      "Shape depois de remover os valores faltantes: (6579, 17)\n"
     ]
    }
   ],
   "source": [
    "print(f\"\\nShape antes de remover os valores faltantes: {df_pag_hei.shape}\")\n",
    "\n",
    "# Removendo os valores faltantes das linhas.\n",
    "df_pag_hei.dropna(axis=0, inplace=True)\n",
    "\n",
    "print(f\"Shape depois de remover os valores faltantes: {df_pag_hei.shape}\")"
   ]
  },
  {
   "cell_type": "markdown",
   "metadata": {},
   "source": [
    "<center> <h3 style=\"background-color:#ECF7AE; color:#3F403D; font-weight: bold\" >Combinando as duas bases de dados DEMO_PHQ e PAG_HEI</h3></center>"
   ]
  },
  {
   "cell_type": "code",
   "execution_count": 129,
   "metadata": {},
   "outputs": [],
   "source": [
    "df_phd_hei = pd.merge(df_demo_phd, df_pag_hei, on=\"SEQN\", how=\"inner\")"
   ]
  },
  {
   "cell_type": "code",
   "execution_count": 130,
   "metadata": {},
   "outputs": [
    {
     "data": {
      "text/html": [
       "<div>\n",
       "<style scoped>\n",
       "    .dataframe tbody tr th:only-of-type {\n",
       "        vertical-align: middle;\n",
       "    }\n",
       "\n",
       "    .dataframe tbody tr th {\n",
       "        vertical-align: top;\n",
       "    }\n",
       "\n",
       "    .dataframe thead th {\n",
       "        text-align: right;\n",
       "    }\n",
       "</style>\n",
       "<table border=\"1\" class=\"dataframe\">\n",
       "  <thead>\n",
       "    <tr style=\"text-align: right;\">\n",
       "      <th></th>\n",
       "      <th>SEQN</th>\n",
       "      <th>DPQ010</th>\n",
       "      <th>DPQ020</th>\n",
       "      <th>DPQ030</th>\n",
       "      <th>DPQ040</th>\n",
       "      <th>DPQ050</th>\n",
       "      <th>DPQ060</th>\n",
       "      <th>DPQ070</th>\n",
       "      <th>DPQ080</th>\n",
       "      <th>DPQ090</th>\n",
       "      <th>...</th>\n",
       "      <th>HEI2015C5_WHOLEGRAIN</th>\n",
       "      <th>HEI2015C6_TOTALDAIRY</th>\n",
       "      <th>HEI2015C7_TOTPROT</th>\n",
       "      <th>HEI2015C8_SEAPLANT_PROT</th>\n",
       "      <th>HEI2015C9_FATTYACID</th>\n",
       "      <th>HEI2015C10_SODIUM</th>\n",
       "      <th>HEI2015C11_REFINEDGRAIN</th>\n",
       "      <th>HEI2015C12_SFAT</th>\n",
       "      <th>HEI2015C13_ADDSUG</th>\n",
       "      <th>HEI2015_TOTAL_SCORE</th>\n",
       "    </tr>\n",
       "  </thead>\n",
       "  <tbody>\n",
       "    <tr>\n",
       "      <th>0</th>\n",
       "      <td>31131</td>\n",
       "      <td>0.0</td>\n",
       "      <td>0.0</td>\n",
       "      <td>0.0</td>\n",
       "      <td>0.0</td>\n",
       "      <td>0.0</td>\n",
       "      <td>0.0</td>\n",
       "      <td>0.0</td>\n",
       "      <td>0.0</td>\n",
       "      <td>0.0</td>\n",
       "      <td>...</td>\n",
       "      <td>0.000000</td>\n",
       "      <td>3.141062</td>\n",
       "      <td>4.071959</td>\n",
       "      <td>2.052399</td>\n",
       "      <td>0.684985</td>\n",
       "      <td>2.297100</td>\n",
       "      <td>9.512964</td>\n",
       "      <td>0.438428</td>\n",
       "      <td>3.919226</td>\n",
       "      <td>35.553899</td>\n",
       "    </tr>\n",
       "    <tr>\n",
       "      <th>1</th>\n",
       "      <td>31132</td>\n",
       "      <td>0.0</td>\n",
       "      <td>0.0</td>\n",
       "      <td>0.0</td>\n",
       "      <td>0.0</td>\n",
       "      <td>0.0</td>\n",
       "      <td>0.0</td>\n",
       "      <td>0.0</td>\n",
       "      <td>0.0</td>\n",
       "      <td>0.0</td>\n",
       "      <td>...</td>\n",
       "      <td>5.000000</td>\n",
       "      <td>4.448512</td>\n",
       "      <td>5.000000</td>\n",
       "      <td>0.000000</td>\n",
       "      <td>2.050769</td>\n",
       "      <td>7.369489</td>\n",
       "      <td>8.887880</td>\n",
       "      <td>8.186877</td>\n",
       "      <td>9.099088</td>\n",
       "      <td>63.551696</td>\n",
       "    </tr>\n",
       "    <tr>\n",
       "      <th>2</th>\n",
       "      <td>31134</td>\n",
       "      <td>0.0</td>\n",
       "      <td>0.0</td>\n",
       "      <td>0.0</td>\n",
       "      <td>0.0</td>\n",
       "      <td>0.0</td>\n",
       "      <td>0.0</td>\n",
       "      <td>0.0</td>\n",
       "      <td>0.0</td>\n",
       "      <td>0.0</td>\n",
       "      <td>...</td>\n",
       "      <td>2.217331</td>\n",
       "      <td>2.313900</td>\n",
       "      <td>5.000000</td>\n",
       "      <td>1.268648</td>\n",
       "      <td>2.958985</td>\n",
       "      <td>0.000000</td>\n",
       "      <td>5.627488</td>\n",
       "      <td>5.863078</td>\n",
       "      <td>5.878686</td>\n",
       "      <td>42.886826</td>\n",
       "    </tr>\n",
       "    <tr>\n",
       "      <th>3</th>\n",
       "      <td>31139</td>\n",
       "      <td>0.0</td>\n",
       "      <td>0.0</td>\n",
       "      <td>0.0</td>\n",
       "      <td>0.0</td>\n",
       "      <td>3.0</td>\n",
       "      <td>1.0</td>\n",
       "      <td>0.0</td>\n",
       "      <td>0.0</td>\n",
       "      <td>0.0</td>\n",
       "      <td>...</td>\n",
       "      <td>0.211544</td>\n",
       "      <td>0.000000</td>\n",
       "      <td>4.088849</td>\n",
       "      <td>4.221442</td>\n",
       "      <td>10.000000</td>\n",
       "      <td>2.845774</td>\n",
       "      <td>0.000000</td>\n",
       "      <td>10.000000</td>\n",
       "      <td>9.658507</td>\n",
       "      <td>47.074393</td>\n",
       "    </tr>\n",
       "    <tr>\n",
       "      <th>4</th>\n",
       "      <td>31143</td>\n",
       "      <td>0.0</td>\n",
       "      <td>1.0</td>\n",
       "      <td>1.0</td>\n",
       "      <td>1.0</td>\n",
       "      <td>1.0</td>\n",
       "      <td>1.0</td>\n",
       "      <td>1.0</td>\n",
       "      <td>0.0</td>\n",
       "      <td>0.0</td>\n",
       "      <td>...</td>\n",
       "      <td>1.444002</td>\n",
       "      <td>5.000000</td>\n",
       "      <td>3.372033</td>\n",
       "      <td>0.000000</td>\n",
       "      <td>0.002362</td>\n",
       "      <td>5.223435</td>\n",
       "      <td>7.787420</td>\n",
       "      <td>0.000000</td>\n",
       "      <td>10.000000</td>\n",
       "      <td>46.086131</td>\n",
       "    </tr>\n",
       "  </tbody>\n",
       "</table>\n",
       "<p>5 rows × 31 columns</p>\n",
       "</div>"
      ],
      "text/plain": [
       "    SEQN  DPQ010  DPQ020  DPQ030  DPQ040  DPQ050  DPQ060  DPQ070  DPQ080  \\\n",
       "0  31131     0.0     0.0     0.0     0.0     0.0     0.0     0.0     0.0   \n",
       "1  31132     0.0     0.0     0.0     0.0     0.0     0.0     0.0     0.0   \n",
       "2  31134     0.0     0.0     0.0     0.0     0.0     0.0     0.0     0.0   \n",
       "3  31139     0.0     0.0     0.0     0.0     3.0     1.0     0.0     0.0   \n",
       "4  31143     0.0     1.0     1.0     1.0     1.0     1.0     1.0     0.0   \n",
       "\n",
       "   DPQ090  ...  HEI2015C5_WHOLEGRAIN  HEI2015C6_TOTALDAIRY  HEI2015C7_TOTPROT  \\\n",
       "0     0.0  ...              0.000000              3.141062           4.071959   \n",
       "1     0.0  ...              5.000000              4.448512           5.000000   \n",
       "2     0.0  ...              2.217331              2.313900           5.000000   \n",
       "3     0.0  ...              0.211544              0.000000           4.088849   \n",
       "4     0.0  ...              1.444002              5.000000           3.372033   \n",
       "\n",
       "   HEI2015C8_SEAPLANT_PROT  HEI2015C9_FATTYACID  HEI2015C10_SODIUM  \\\n",
       "0                 2.052399             0.684985           2.297100   \n",
       "1                 0.000000             2.050769           7.369489   \n",
       "2                 1.268648             2.958985           0.000000   \n",
       "3                 4.221442            10.000000           2.845774   \n",
       "4                 0.000000             0.002362           5.223435   \n",
       "\n",
       "   HEI2015C11_REFINEDGRAIN  HEI2015C12_SFAT  HEI2015C13_ADDSUG  \\\n",
       "0                 9.512964         0.438428           3.919226   \n",
       "1                 8.887880         8.186877           9.099088   \n",
       "2                 5.627488         5.863078           5.878686   \n",
       "3                 0.000000        10.000000           9.658507   \n",
       "4                 7.787420         0.000000          10.000000   \n",
       "\n",
       "   HEI2015_TOTAL_SCORE  \n",
       "0            35.553899  \n",
       "1            63.551696  \n",
       "2            42.886826  \n",
       "3            47.074393  \n",
       "4            46.086131  \n",
       "\n",
       "[5 rows x 31 columns]"
      ]
     },
     "execution_count": 130,
     "metadata": {},
     "output_type": "execute_result"
    }
   ],
   "source": [
    "df_phd_hei.head()"
   ]
  },
  {
   "cell_type": "code",
   "execution_count": 131,
   "metadata": {},
   "outputs": [
    {
     "data": {
      "text/plain": [
       "SEQN                        0\n",
       "DPQ010                      0\n",
       "DPQ020                      0\n",
       "DPQ030                      0\n",
       "DPQ040                      0\n",
       "DPQ050                      0\n",
       "DPQ060                      0\n",
       "DPQ070                      0\n",
       "DPQ080                      0\n",
       "DPQ090                      0\n",
       "RIAGENDR                    0\n",
       "RIDAGEYR                    0\n",
       "RIDRETH1                    0\n",
       "DMDEDUC                     0\n",
       "INDFMINC                    0\n",
       "PAG_MINW                    0\n",
       "ADHERENCE                   0\n",
       "HEI2015C1_TOTALVEG          0\n",
       "HEI2015C2_GREEN_AND_BEAN    0\n",
       "HEI2015C3_TOTALFRUIT        0\n",
       "HEI2015C4_WHOLEFRUIT        0\n",
       "HEI2015C5_WHOLEGRAIN        0\n",
       "HEI2015C6_TOTALDAIRY        0\n",
       "HEI2015C7_TOTPROT           0\n",
       "HEI2015C8_SEAPLANT_PROT     0\n",
       "HEI2015C9_FATTYACID         0\n",
       "HEI2015C10_SODIUM           0\n",
       "HEI2015C11_REFINEDGRAIN     0\n",
       "HEI2015C12_SFAT             0\n",
       "HEI2015C13_ADDSUG           0\n",
       "HEI2015_TOTAL_SCORE         0\n",
       "dtype: int64"
      ]
     },
     "execution_count": 131,
     "metadata": {},
     "output_type": "execute_result"
    }
   ],
   "source": [
    "df_phd_hei.isnull().sum()"
   ]
  },
  {
   "cell_type": "code",
   "execution_count": 132,
   "metadata": {},
   "outputs": [
    {
     "data": {
      "text/plain": [
       "(4702, 31)"
      ]
     },
     "execution_count": 132,
     "metadata": {},
     "output_type": "execute_result"
    }
   ],
   "source": [
    "df_phd_hei.shape"
   ]
  },
  {
   "cell_type": "markdown",
   "metadata": {},
   "source": [
    "<center> <h3 style=\"background-color:#ECF7AE; color:#3F403D; font-weight: bold\" >Criando uma coluna com o Score do intrevistado</h3></center>\n",
    "\n",
    "Para criar o Score do intrevistado, será somado os valores das variáveis `DPQ010` até `DPQ090`."
   ]
  },
  {
   "cell_type": "code",
   "execution_count": 133,
   "metadata": {},
   "outputs": [
    {
     "data": {
      "text/plain": [
       "Index(['DPQ010', 'DPQ020', 'DPQ030', 'DPQ040', 'DPQ050', 'DPQ060', 'DPQ070',\n",
       "       'DPQ080', 'DPQ090'],\n",
       "      dtype='object')"
      ]
     },
     "execution_count": 133,
     "metadata": {},
     "output_type": "execute_result"
    }
   ],
   "source": [
    "cols_dpq010_a_dpq090 = df_phd_hei.columns[1:10]\n",
    "cols_dpq010_a_dpq090"
   ]
  },
  {
   "cell_type": "markdown",
   "metadata": {},
   "source": [
    "As perguntas feitas nos itens `DPQ010` ao `DPQ090` possuem as seguintes opções:\n",
    "\n",
    "+ 0 = Nenhuma vez\n",
    "+ 1 = Menos de uma semana;\n",
    "+ 2 = Uma semana ou mais;\n",
    "+ 3 = Quase todos os dias;\n",
    "+ 7 = Se recusou a responder;\n",
    "+ 9 = Não sabe\n",
    "\n",
    "Ao somar os valores dos itens de `DPQ010` a `DPQ090` para gerar um escore, pode ocorrer uma distorção devido às opções 7 e 9, que indicam que o entrevistado optou por não fornecer a informação solicitada. Para mitigar essa distorção potencial, os valores desses campos são convertidos para zero. Isso ajuda a garantir que os escores gerados sejam mais confiáveis e representativos."
   ]
  },
  {
   "cell_type": "code",
   "execution_count": 134,
   "metadata": {},
   "outputs": [],
   "source": [
    "for cols in cols_dpq010_a_dpq090:\n",
    "    df_phd_hei[cols] = df_phd_hei[cols].apply(lambda x: 0 if x==7 or x==9 else x)"
   ]
  },
  {
   "cell_type": "code",
   "execution_count": 135,
   "metadata": {},
   "outputs": [
    {
     "data": {
      "text/plain": [
       "array([0., 1., 2., 3.])"
      ]
     },
     "execution_count": 135,
     "metadata": {},
     "output_type": "execute_result"
    }
   ],
   "source": [
    "np.unique(df_phd_hei[cols_dpq010_a_dpq090].values)"
   ]
  },
  {
   "cell_type": "markdown",
   "metadata": {},
   "source": [
    "Calculando o score de cada intrevistado e salvando em uma coluna chamada `PHQ9` no DataFrame `df_phd_hei`."
   ]
  },
  {
   "cell_type": "code",
   "execution_count": 136,
   "metadata": {},
   "outputs": [
    {
     "data": {
      "text/plain": [
       "0        0.0\n",
       "1        0.0\n",
       "2        0.0\n",
       "3        4.0\n",
       "4        6.0\n",
       "        ... \n",
       "4697     2.0\n",
       "4698    10.0\n",
       "4699     2.0\n",
       "4700     0.0\n",
       "4701     4.0\n",
       "Name: PHQ9, Length: 4702, dtype: float64"
      ]
     },
     "execution_count": 136,
     "metadata": {},
     "output_type": "execute_result"
    }
   ],
   "source": [
    "df_phd_hei[\"PHQ9\"] = df_phd_hei[cols_dpq010_a_dpq090].sum(axis=1)\n",
    "df_phd_hei[\"PHQ9\"]"
   ]
  },
  {
   "cell_type": "markdown",
   "metadata": {},
   "source": [
    "Criando a coluna `PHQ_GRP` com a classificação do escore `PHQ9`, assumindo\n",
    "os valores:\n",
    "\n",
    " + 0 (“sem sintomas”) se `PHQ9` < 5\n",
    " + 1 (“sintomas leves”) se 5 <= `PHQ9` < 10\n",
    " + 2 (“sintomas moderados a severos”) se `PHQ9` >= 10"
   ]
  },
  {
   "cell_type": "code",
   "execution_count": 139,
   "metadata": {},
   "outputs": [],
   "source": [
    "df_phd_hei[\"PHQ_GRP\"] = (df_phd_hei.PHQ9.apply(\n",
    "    lambda x: 0 if x<5 else (1 if (x>=5 and x<10) else 2)))"
   ]
  },
  {
   "cell_type": "code",
   "execution_count": 141,
   "metadata": {},
   "outputs": [
    {
     "data": {
      "text/html": [
       "<div>\n",
       "<style scoped>\n",
       "    .dataframe tbody tr th:only-of-type {\n",
       "        vertical-align: middle;\n",
       "    }\n",
       "\n",
       "    .dataframe tbody tr th {\n",
       "        vertical-align: top;\n",
       "    }\n",
       "\n",
       "    .dataframe thead th {\n",
       "        text-align: right;\n",
       "    }\n",
       "</style>\n",
       "<table border=\"1\" class=\"dataframe\">\n",
       "  <thead>\n",
       "    <tr style=\"text-align: right;\">\n",
       "      <th></th>\n",
       "      <th>SEQN</th>\n",
       "      <th>DPQ010</th>\n",
       "      <th>DPQ020</th>\n",
       "      <th>DPQ030</th>\n",
       "      <th>DPQ040</th>\n",
       "      <th>DPQ050</th>\n",
       "      <th>DPQ060</th>\n",
       "      <th>DPQ070</th>\n",
       "      <th>DPQ080</th>\n",
       "      <th>DPQ090</th>\n",
       "      <th>...</th>\n",
       "      <th>HEI2015C7_TOTPROT</th>\n",
       "      <th>HEI2015C8_SEAPLANT_PROT</th>\n",
       "      <th>HEI2015C9_FATTYACID</th>\n",
       "      <th>HEI2015C10_SODIUM</th>\n",
       "      <th>HEI2015C11_REFINEDGRAIN</th>\n",
       "      <th>HEI2015C12_SFAT</th>\n",
       "      <th>HEI2015C13_ADDSUG</th>\n",
       "      <th>HEI2015_TOTAL_SCORE</th>\n",
       "      <th>PHQ9</th>\n",
       "      <th>PHQ_GRP</th>\n",
       "    </tr>\n",
       "  </thead>\n",
       "  <tbody>\n",
       "    <tr>\n",
       "      <th>0</th>\n",
       "      <td>31131</td>\n",
       "      <td>0.0</td>\n",
       "      <td>0.0</td>\n",
       "      <td>0.0</td>\n",
       "      <td>0.0</td>\n",
       "      <td>0.0</td>\n",
       "      <td>0.0</td>\n",
       "      <td>0.0</td>\n",
       "      <td>0.0</td>\n",
       "      <td>0.0</td>\n",
       "      <td>...</td>\n",
       "      <td>4.071959</td>\n",
       "      <td>2.052399</td>\n",
       "      <td>0.684985</td>\n",
       "      <td>2.297100</td>\n",
       "      <td>9.512964</td>\n",
       "      <td>0.438428</td>\n",
       "      <td>3.919226</td>\n",
       "      <td>35.553899</td>\n",
       "      <td>0.0</td>\n",
       "      <td>0</td>\n",
       "    </tr>\n",
       "    <tr>\n",
       "      <th>1</th>\n",
       "      <td>31132</td>\n",
       "      <td>0.0</td>\n",
       "      <td>0.0</td>\n",
       "      <td>0.0</td>\n",
       "      <td>0.0</td>\n",
       "      <td>0.0</td>\n",
       "      <td>0.0</td>\n",
       "      <td>0.0</td>\n",
       "      <td>0.0</td>\n",
       "      <td>0.0</td>\n",
       "      <td>...</td>\n",
       "      <td>5.000000</td>\n",
       "      <td>0.000000</td>\n",
       "      <td>2.050769</td>\n",
       "      <td>7.369489</td>\n",
       "      <td>8.887880</td>\n",
       "      <td>8.186877</td>\n",
       "      <td>9.099088</td>\n",
       "      <td>63.551696</td>\n",
       "      <td>0.0</td>\n",
       "      <td>0</td>\n",
       "    </tr>\n",
       "    <tr>\n",
       "      <th>2</th>\n",
       "      <td>31134</td>\n",
       "      <td>0.0</td>\n",
       "      <td>0.0</td>\n",
       "      <td>0.0</td>\n",
       "      <td>0.0</td>\n",
       "      <td>0.0</td>\n",
       "      <td>0.0</td>\n",
       "      <td>0.0</td>\n",
       "      <td>0.0</td>\n",
       "      <td>0.0</td>\n",
       "      <td>...</td>\n",
       "      <td>5.000000</td>\n",
       "      <td>1.268648</td>\n",
       "      <td>2.958985</td>\n",
       "      <td>0.000000</td>\n",
       "      <td>5.627488</td>\n",
       "      <td>5.863078</td>\n",
       "      <td>5.878686</td>\n",
       "      <td>42.886826</td>\n",
       "      <td>0.0</td>\n",
       "      <td>0</td>\n",
       "    </tr>\n",
       "    <tr>\n",
       "      <th>3</th>\n",
       "      <td>31139</td>\n",
       "      <td>0.0</td>\n",
       "      <td>0.0</td>\n",
       "      <td>0.0</td>\n",
       "      <td>0.0</td>\n",
       "      <td>3.0</td>\n",
       "      <td>1.0</td>\n",
       "      <td>0.0</td>\n",
       "      <td>0.0</td>\n",
       "      <td>0.0</td>\n",
       "      <td>...</td>\n",
       "      <td>4.088849</td>\n",
       "      <td>4.221442</td>\n",
       "      <td>10.000000</td>\n",
       "      <td>2.845774</td>\n",
       "      <td>0.000000</td>\n",
       "      <td>10.000000</td>\n",
       "      <td>9.658507</td>\n",
       "      <td>47.074393</td>\n",
       "      <td>4.0</td>\n",
       "      <td>0</td>\n",
       "    </tr>\n",
       "    <tr>\n",
       "      <th>4</th>\n",
       "      <td>31143</td>\n",
       "      <td>0.0</td>\n",
       "      <td>1.0</td>\n",
       "      <td>1.0</td>\n",
       "      <td>1.0</td>\n",
       "      <td>1.0</td>\n",
       "      <td>1.0</td>\n",
       "      <td>1.0</td>\n",
       "      <td>0.0</td>\n",
       "      <td>0.0</td>\n",
       "      <td>...</td>\n",
       "      <td>3.372033</td>\n",
       "      <td>0.000000</td>\n",
       "      <td>0.002362</td>\n",
       "      <td>5.223435</td>\n",
       "      <td>7.787420</td>\n",
       "      <td>0.000000</td>\n",
       "      <td>10.000000</td>\n",
       "      <td>46.086131</td>\n",
       "      <td>6.0</td>\n",
       "      <td>1</td>\n",
       "    </tr>\n",
       "  </tbody>\n",
       "</table>\n",
       "<p>5 rows × 33 columns</p>\n",
       "</div>"
      ],
      "text/plain": [
       "    SEQN  DPQ010  DPQ020  DPQ030  DPQ040  DPQ050  DPQ060  DPQ070  DPQ080  \\\n",
       "0  31131     0.0     0.0     0.0     0.0     0.0     0.0     0.0     0.0   \n",
       "1  31132     0.0     0.0     0.0     0.0     0.0     0.0     0.0     0.0   \n",
       "2  31134     0.0     0.0     0.0     0.0     0.0     0.0     0.0     0.0   \n",
       "3  31139     0.0     0.0     0.0     0.0     3.0     1.0     0.0     0.0   \n",
       "4  31143     0.0     1.0     1.0     1.0     1.0     1.0     1.0     0.0   \n",
       "\n",
       "   DPQ090  ...  HEI2015C7_TOTPROT  HEI2015C8_SEAPLANT_PROT  \\\n",
       "0     0.0  ...           4.071959                 2.052399   \n",
       "1     0.0  ...           5.000000                 0.000000   \n",
       "2     0.0  ...           5.000000                 1.268648   \n",
       "3     0.0  ...           4.088849                 4.221442   \n",
       "4     0.0  ...           3.372033                 0.000000   \n",
       "\n",
       "   HEI2015C9_FATTYACID  HEI2015C10_SODIUM  HEI2015C11_REFINEDGRAIN  \\\n",
       "0             0.684985           2.297100                 9.512964   \n",
       "1             2.050769           7.369489                 8.887880   \n",
       "2             2.958985           0.000000                 5.627488   \n",
       "3            10.000000           2.845774                 0.000000   \n",
       "4             0.002362           5.223435                 7.787420   \n",
       "\n",
       "   HEI2015C12_SFAT  HEI2015C13_ADDSUG  HEI2015_TOTAL_SCORE  PHQ9  PHQ_GRP  \n",
       "0         0.438428           3.919226            35.553899   0.0        0  \n",
       "1         8.186877           9.099088            63.551696   0.0        0  \n",
       "2         5.863078           5.878686            42.886826   0.0        0  \n",
       "3        10.000000           9.658507            47.074393   4.0        0  \n",
       "4         0.000000          10.000000            46.086131   6.0        1  \n",
       "\n",
       "[5 rows x 33 columns]"
      ]
     },
     "execution_count": 141,
     "metadata": {},
     "output_type": "execute_result"
    }
   ],
   "source": [
    "df_phd_hei.head()"
   ]
  },
  {
   "cell_type": "markdown",
   "metadata": {},
   "source": [
    "<center> <h2 style=\"background-color:#AB7070; color:white; font-weight: bold\" >Análise Exploratória (EDA) Univariada</h2></center>"
   ]
  },
  {
   "cell_type": "code",
   "execution_count": null,
   "metadata": {},
   "outputs": [],
   "source": []
  },
  {
   "cell_type": "code",
   "execution_count": null,
   "metadata": {},
   "outputs": [],
   "source": []
  },
  {
   "cell_type": "markdown",
   "metadata": {},
   "source": [
    "<center> <h2 style=\"background-color:#AB7070; color:white; font-weight: bold\" >Análise Exploratória (EDA) Bivariada</h2></center>"
   ]
  },
  {
   "cell_type": "code",
   "execution_count": null,
   "metadata": {},
   "outputs": [],
   "source": []
  },
  {
   "cell_type": "code",
   "execution_count": null,
   "metadata": {},
   "outputs": [],
   "source": []
  },
  {
   "cell_type": "markdown",
   "metadata": {},
   "source": [
    "<center> <h2 style=\"background-color:#AB7070; color:white; font-weight: bold\" >Testes de Hipóteses</h2></center>"
   ]
  },
  {
   "cell_type": "code",
   "execution_count": null,
   "metadata": {},
   "outputs": [],
   "source": []
  },
  {
   "cell_type": "code",
   "execution_count": null,
   "metadata": {},
   "outputs": [],
   "source": []
  },
  {
   "cell_type": "markdown",
   "metadata": {},
   "source": [
    "<center> <h2 style=\"background-color:#AB7070; color:white; font-weight: bold\" >Implementação de um modelo de Previsão</h2></center>"
   ]
  },
  {
   "cell_type": "code",
   "execution_count": null,
   "metadata": {},
   "outputs": [],
   "source": []
  },
  {
   "cell_type": "code",
   "execution_count": null,
   "metadata": {},
   "outputs": [],
   "source": []
  },
  {
   "cell_type": "markdown",
   "metadata": {},
   "source": [
    "<center> <h2 style=\"background-color:#AB7070; color:white; font-weight: bold\" >Análise Crítica dos Resultados</h2></center>"
   ]
  },
  {
   "cell_type": "code",
   "execution_count": null,
   "metadata": {},
   "outputs": [],
   "source": []
  },
  {
   "cell_type": "code",
   "execution_count": null,
   "metadata": {},
   "outputs": [],
   "source": []
  }
 ],
 "metadata": {
  "kernelspec": {
   "display_name": ".venv",
   "language": "python",
   "name": "python3"
  },
  "language_info": {
   "codemirror_mode": {
    "name": "ipython",
    "version": 3
   },
   "file_extension": ".py",
   "mimetype": "text/x-python",
   "name": "python",
   "nbconvert_exporter": "python",
   "pygments_lexer": "ipython3",
   "version": "3.10.12"
  }
 },
 "nbformat": 4,
 "nbformat_minor": 2
}
